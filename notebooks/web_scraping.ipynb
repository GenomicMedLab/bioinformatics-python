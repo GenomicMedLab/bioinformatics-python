{
 "cells": [
  {
   "cell_type": "markdown",
   "id": "0a5d2a85",
   "metadata": {},
   "source": [
    "# This lab contains exercises for the Bioinformatics with Python Lab held on November 19th, 2024 during the CSHL Advanced Sequencing Technologies & Bioinformatics Analysis course"
   ]
  },
  {
   "cell_type": "markdown",
   "id": "4e5d6a68",
   "metadata": {},
   "source": [
    "## Using `requests` to extract data from an API"
   ]
  },
  {
   "cell_type": "markdown",
   "id": "91e0eac2",
   "metadata": {},
   "source": [
    "#### First, let's import the `requests` library"
   ]
  },
  {
   "cell_type": "code",
   "execution_count": null,
   "id": "18ca7fc5",
   "metadata": {},
   "outputs": [],
   "source": [
    "import requests"
   ]
  },
  {
   "cell_type": "markdown",
   "id": "02e3afae",
   "metadata": {},
   "source": [
    "#### 1. We are interested in using `requests` to query the Ensembl API to get back a record for a the TCERG1 gene. How would you determine this? Type your answer in the cell below. The Ensembl documentation for this can be viewed here: https://rest.ensembl.org/documentation/info/symbol_lookup"
   ]
  },
  {
   "cell_type": "code",
   "execution_count": null,
   "id": "759c3b93",
   "metadata": {},
   "outputs": [],
   "source": [
    "gene_symbol = \"TCERG1\"\n",
    "ensembl_gene_url = f\"https://rest.ensembl.org/lookup/symbol/homo_sapiens/{gene_symbol}?content-type=application/json\"\n",
    "ensembl_gene_record = # Uncomment and type code here"
   ]
  },
  {
   "cell_type": "markdown",
   "id": "ce3c8245",
   "metadata": {},
   "source": [
    "#### 2. How would you view the JSON output for this request?"
   ]
  },
  {
   "cell_type": "code",
   "execution_count": null,
   "id": "ea9d47e1",
   "metadata": {},
   "outputs": [],
   "source": [
    "# Uncomment and type code here"
   ]
  },
  {
   "cell_type": "markdown",
   "id": "e37f88dc",
   "metadata": {},
   "source": [
    "## Introduction to Web Scraping using `beautifulsoup4` "
   ]
  },
  {
   "cell_type": "markdown",
   "id": "a4b39cba",
   "metadata": {},
   "source": [
    "#### We're now going to be using `beautifulsoup4` to practice web scraping from the course website: https://meetings.cshl.edu/courses.aspx?course=C-SEQTEC"
   ]
  },
  {
   "cell_type": "code",
   "execution_count": null,
   "id": "3125cf31",
   "metadata": {},
   "outputs": [],
   "source": [
    "from bs4 import BeautifulSoup"
   ]
  },
  {
   "cell_type": "markdown",
   "id": "110bb971",
   "metadata": {},
   "source": [
    "#### 1. How would you to get the list of invited speakers for the course? What is `div` doing in this command?"
   ]
  },
  {
   "cell_type": "code",
   "execution_count": null,
   "id": "088ef710",
   "metadata": {
    "scrolled": true
   },
   "outputs": [],
   "source": [
    "url = 'https://meetings.cshl.edu/courses.aspx?course=C-SEQTEC'\n",
    "response = requests.get(url)\n",
    "html_content = response.text\n",
    "cshl_webpage = BeautifulSoup(html_content, \"html.parser\")\n",
    "cshl_webpage\n",
    "#cshl_webpage.find('div', class_='fill in flag here')\n",
    "#cshl_webpage"
   ]
  },
  {
   "cell_type": "markdown",
   "id": "49a424f4",
   "metadata": {},
   "source": [
    "#### The following cell can be run to convert this to a human readable form:"
   ]
  },
  {
   "cell_type": "code",
   "execution_count": null,
   "id": "5d27a363",
   "metadata": {},
   "outputs": [],
   "source": [
    "instructors = cshl_webpage.find('div', class_='cspeakers16').find(\"div\", class_=\"cspeakers16\")\n",
    "insructors = instructors.get_text().replace(\"\\xa0\", \" \").strip()\n",
    "print(insructors)"
   ]
  },
  {
   "cell_type": "markdown",
   "id": "45b9d419",
   "metadata": {},
   "source": [
    "#### 3. Suppose we want to extract the dates for the course, and we know that the dates are under the `cdate16` flag. Write a query to output the dates that uses the `get_text()` function"
   ]
  },
  {
   "cell_type": "code",
   "execution_count": null,
   "id": "fca6495f",
   "metadata": {},
   "outputs": [],
   "source": [
    "# Uncomment and type code here"
   ]
  }
 ],
 "metadata": {
  "kernelspec": {
   "display_name": "Python 3 (ipykernel)",
   "language": "python",
   "name": "python3"
  },
  "language_info": {
   "codemirror_mode": {
    "name": "ipython",
    "version": 3
   },
   "file_extension": ".py",
   "mimetype": "text/x-python",
   "name": "python",
   "nbconvert_exporter": "python",
   "pygments_lexer": "ipython3",
   "version": "3.11.7"
  }
 },
 "nbformat": 4,
 "nbformat_minor": 5
}

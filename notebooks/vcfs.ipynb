{
 "cells": [
  {
   "cell_type": "markdown",
   "id": "0a5d2a85",
   "metadata": {},
   "source": [
    "# This lab contains exercises for the Bioinformatics with Python Lab held on November 19th, 2024 during the CSHL Advanced Sequencing Technologies & Bioinformatics Analysis course"
   ]
  },
  {
   "cell_type": "markdown",
   "id": "13ed1ed4",
   "metadata": {},
   "source": [
    "## VCFs and Pandas"
   ]
  },
  {
   "cell_type": "markdown",
   "id": "6a2290b8",
   "metadata": {},
   "source": [
    "#### We will conclude by doing some exercises that combine analysis of variant call files (VCFs) and the pandas library. First, let's import pandas and pysam:"
   ]
  },
  {
   "cell_type": "code",
   "execution_count": null,
   "id": "d8bbda1f",
   "metadata": {},
   "outputs": [],
   "source": [
    "import pandas as pd # Used to access dataframes\n",
    "import pysam # Used to access VCFs"
   ]
  },
  {
   "cell_type": "markdown",
   "id": "cce6a250",
   "metadata": {},
   "source": [
    "#### 1. Write code to read in the VCF using pysam and print the header:"
   ]
  },
  {
   "cell_type": "code",
   "execution_count": null,
   "id": "0e819b33",
   "metadata": {},
   "outputs": [],
   "source": [
    "vcf_file = pysam.VariantFile(\"../../data/Exome_Norm_HC_calls.filtered.PASS.vcf\", index_filename=None)\n",
    "# write code to print header here"
   ]
  },
  {
   "cell_type": "markdown",
   "id": "61acb57d",
   "metadata": {},
   "source": [
    "#### 2. Scroll through and look at the rows with the ##FORMAT flags. What do these rows mean and why are they important?"
   ]
  },
  {
   "cell_type": "markdown",
   "id": "6b8e1357",
   "metadata": {},
   "source": [
    "*Type Answer Here*:"
   ]
  },
  {
   "cell_type": "markdown",
   "id": "4562a94d",
   "metadata": {},
   "source": [
    "#### 3. Run the code below to view the first 30 variants in the vcf. What kind of variants do you see in this list? How can you tell?"
   ]
  },
  {
   "cell_type": "code",
   "execution_count": null,
   "id": "ad01250e",
   "metadata": {},
   "outputs": [],
   "source": [
    "print(\"#CHROM POS ID REF ALT QUAL FILTER INFO FORMAT HCC1395BL_DNA\")\n",
    "for index, record in enumerate(vcf_file):\n",
    "   if index == 30:\n",
    "       break\n",
    "   else:\n",
    "       print(record)"
   ]
  },
  {
   "cell_type": "markdown",
   "id": "5aea01f0",
   "metadata": {},
   "source": [
    "*Type Answer Here*:"
   ]
  },
  {
   "cell_type": "markdown",
   "id": "587da841",
   "metadata": {},
   "source": [
    "#### Run the code below to convert the VCF to a pandas dataframe:"
   ]
  },
  {
   "cell_type": "code",
   "execution_count": null,
   "id": "a32fe9c2",
   "metadata": {},
   "outputs": [],
   "source": [
    "columns = [\"chrom\", \"pos\", \"id\", \"ref\", \"alt\", \"qual\", \"filter\",\n",
    "          \"dp\", \"gt\", \"ad\", \"gq\"]\n",
    "vcf_data = []\n",
    "for record in vcf_file:\n",
    "   sample_data = record.samples[\"HCC1395BL_DNA\"]\n",
    "   vcf_data.append({\"chrom\": record.chrom,\n",
    "                  \"pos\": record.pos,\n",
    "                  \"id\": record.id,\n",
    "                  \"ref\": record.ref,\n",
    "                  \"alt\": ','.join(record.alts),\n",
    "                  \"qual\": record.qual,\n",
    "                  \"filter\": ';'.join(record.filter.keys()),\n",
    "                  \"dp\": sample_data.get(\"DP\"),\n",
    "                  \"gt\": sample_data.get(\"GT\"),\n",
    "                  \"ad\": sample_data.get(\"AD\"),\n",
    "                  \"gq\":sample_data.get(\"GQ\")})\n",
    "vcf_data = pd.DataFrame(vcf_data)\n",
    "vcf_data[\"chrom\"] = vcf_data[\"chrom\"].str.replace('chr', '', regex=False).astype(int)"
   ]
  },
  {
   "cell_type": "markdown",
   "id": "f2959a9d",
   "metadata": {},
   "source": [
    "#### 5. How many rows are in the dataframe? What pandas command can you use to determine this? "
   ]
  },
  {
   "cell_type": "code",
   "execution_count": null,
   "id": "fe0d3678",
   "metadata": {},
   "outputs": [],
   "source": []
  },
  {
   "cell_type": "markdown",
   "id": "8d1113cb",
   "metadata": {},
   "source": [
    "#### 6. We would like to take a random sample of 20 entries from the dataframe. How would we do this in pandas? Name the new dataset `vcf_subset`. Set the random state to equal 7 for reproducibility."
   ]
  },
  {
   "cell_type": "code",
   "execution_count": null,
   "id": "d71eb053",
   "metadata": {},
   "outputs": [],
   "source": []
  },
  {
   "cell_type": "markdown",
   "id": "dbd314de",
   "metadata": {},
   "source": [
    "#### 7. Suppose we want to sort the sample so that the variant positions are in **descending order**. How would you do this using pandas?"
   ]
  },
  {
   "cell_type": "code",
   "execution_count": null,
   "id": "e4c69748",
   "metadata": {},
   "outputs": [],
   "source": []
  },
  {
   "cell_type": "markdown",
   "id": "44444938",
   "metadata": {},
   "source": [
    "#### 8. We would like to only include variants that have a read depth >= 50.0 and a genotype quality >= 70.0. How would you do this using pandas?"
   ]
  },
  {
   "cell_type": "code",
   "execution_count": null,
   "id": "a63f6aa9",
   "metadata": {},
   "outputs": [],
   "source": []
  },
  {
   "cell_type": "markdown",
   "id": "2e26fce9",
   "metadata": {},
   "source": [
    "## Final Exercise"
   ]
  },
  {
   "cell_type": "markdown",
   "id": "e439aacc",
   "metadata": {},
   "source": [
    "#### A clinical colleague has asked you to examine the VCF to see if there are any frameshift variants in the coding regions of the *P2RX5* gene. How many frameshift variants are there? Write your code below to answer this question. The exon coordinates for the *P2RX5* gene are provided in the cell below."
   ]
  },
  {
   "cell_type": "code",
   "execution_count": null,
   "id": "40284ada",
   "metadata": {},
   "outputs": [],
   "source": [
    "exon_list = [[3695868,3696155], [3691643,3691794], [3690955,3691027],\n",
    "             [3690604,3690680], [3690426,3690523], [3690069,3690150],\n",
    "             [3689491,3689630], [3688625,3688759], [3688011,3688105],\n",
    "             [3681895,3681978], [3679589,3679784], [3673226,3673226]]"
   ]
  },
  {
   "cell_type": "code",
   "execution_count": null,
   "id": "0d9c394c",
   "metadata": {},
   "outputs": [],
   "source": []
  }
 ],
 "metadata": {
  "kernelspec": {
   "display_name": "Python 3 (ipykernel)",
   "language": "python",
   "name": "python3"
  },
  "language_info": {
   "codemirror_mode": {
    "name": "ipython",
    "version": 3
   },
   "file_extension": ".py",
   "mimetype": "text/x-python",
   "name": "python",
   "nbconvert_exporter": "python",
   "pygments_lexer": "ipython3",
   "version": "3.11.7"
  }
 },
 "nbformat": 4,
 "nbformat_minor": 5
}

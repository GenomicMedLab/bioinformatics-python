{
 "cells": [
  {
   "cell_type": "markdown",
   "id": "0a5d2a85",
   "metadata": {},
   "source": [
    "# Webscraping with Python Exercises \n",
    "For the 2024 CSHL Advanced Sequencing Technologies & Bioinformatics Analysis course"
   ]
  },
  {
   "cell_type": "markdown",
   "id": "4e5d6a68",
   "metadata": {},
   "source": [
    "## Exercise 1: use `requests` to extract data from an API"
   ]
  },
  {
   "cell_type": "code",
   "execution_count": null,
   "id": "18ca7fc5",
   "metadata": {},
   "outputs": [],
   "source": [
    "import requests"
   ]
  },
  {
   "cell_type": "markdown",
   "id": "02e3afae",
   "metadata": {},
   "source": [
    "We are interested in using `requests` to query the [Ensembl API](https://rest.ensembl.org/documentation/info/symbol_lookup) to get back a record for a the TCERG1 gene. How would you determine this? Type your answer in the cell below."
   ]
  },
  {
   "cell_type": "code",
   "execution_count": null,
   "id": "759c3b93",
   "metadata": {
    "tags": []
   },
   "outputs": [],
   "source": [
    "gene_symbol = ?              # The symbol you want to query\n",
    "ensembl_gene_url = ?         # The URL you will use to query\n",
    "ensembl_gene_response = ?    # Make the query with requests"
   ]
  },
  {
   "cell_type": "markdown",
   "id": "ce3c8245",
   "metadata": {},
   "source": [
    "How would you check if your query was successful?"
   ]
  },
  {
   "cell_type": "code",
   "execution_count": null,
   "id": "ea9d47e1",
   "metadata": {},
   "outputs": [],
   "source": [
    "? . ?"
   ]
  },
  {
   "cell_type": "markdown",
   "id": "589e7f67-fa31-4811-9a9b-069b74f2a14f",
   "metadata": {},
   "source": [
    "How would you view the response to your query in a JSON format?"
   ]
  },
  {
   "cell_type": "code",
   "execution_count": null,
   "id": "ccc881bd-c695-46a1-83de-1896d3d7e2e5",
   "metadata": {},
   "outputs": [],
   "source": [
    "? . ?"
   ]
  },
  {
   "cell_type": "markdown",
   "id": "e37f88dc",
   "metadata": {},
   "source": [
    "## Introduction to Web Scraping using `beautifulsoup4` "
   ]
  },
  {
   "cell_type": "markdown",
   "id": "a4b39cba",
   "metadata": {},
   "source": [
    "#### We're now going to be using `beautifulsoup4` to practice web scraping from the course website: https://meetings.cshl.edu/courses.aspx?course=C-SEQTEC"
   ]
  },
  {
   "cell_type": "code",
   "execution_count": null,
   "id": "3125cf31",
   "metadata": {},
   "outputs": [],
   "source": [
    "from bs4 import BeautifulSoup"
   ]
  },
  {
   "cell_type": "markdown",
   "id": "110bb971",
   "metadata": {},
   "source": [
    "#### 1. How would you to get the list of invited speakers for the course? What is `div` doing in this command?"
   ]
  },
  {
   "cell_type": "code",
   "execution_count": null,
   "id": "088ef710",
   "metadata": {
    "scrolled": true
   },
   "outputs": [],
   "source": [
    "url = 'https://meetings.cshl.edu/courses.aspx?course=C-SEQTEC'\n",
    "response = requests.get(url)\n",
    "html_content = response.text\n",
    "cshl_webpage = BeautifulSoup(html_content, \"html.parser\")\n",
    "cshl_webpage\n",
    "#cshl_webpage.find('div', class_='fill in flag here')\n",
    "#cshl_webpage"
   ]
  },
  {
   "cell_type": "markdown",
   "id": "49a424f4",
   "metadata": {},
   "source": [
    "#### The following cell can be run to convert this to a human readable form:"
   ]
  },
  {
   "cell_type": "code",
   "execution_count": 2,
   "id": "5d27a363",
   "metadata": {
    "tags": []
   },
   "outputs": [
    {
     "ename": "NameError",
     "evalue": "name 'cshl_webpage' is not defined",
     "output_type": "error",
     "traceback": [
      "\u001b[0;31m---------------------------------------------------------------------------\u001b[0m",
      "\u001b[0;31mNameError\u001b[0m                                 Traceback (most recent call last)",
      "Cell \u001b[0;32mIn[2], line 1\u001b[0m\n\u001b[0;32m----> 1\u001b[0m instructors \u001b[38;5;241m=\u001b[39m cshl_webpage\u001b[38;5;241m.\u001b[39mfind(\u001b[38;5;124m'\u001b[39m\u001b[38;5;124mdiv\u001b[39m\u001b[38;5;124m'\u001b[39m, class_\u001b[38;5;241m=\u001b[39m\u001b[38;5;124m'\u001b[39m\u001b[38;5;124mcspeakers16\u001b[39m\u001b[38;5;124m'\u001b[39m)\u001b[38;5;241m.\u001b[39mfind(\u001b[38;5;124m\"\u001b[39m\u001b[38;5;124mdiv\u001b[39m\u001b[38;5;124m\"\u001b[39m, class_\u001b[38;5;241m=\u001b[39m\u001b[38;5;124m\"\u001b[39m\u001b[38;5;124mcspeakers16\u001b[39m\u001b[38;5;124m\"\u001b[39m)\n\u001b[1;32m      2\u001b[0m instructors \u001b[38;5;241m=\u001b[39m instructors\u001b[38;5;241m.\u001b[39mget_text()\u001b[38;5;241m.\u001b[39mreplace(\u001b[38;5;124m\"\u001b[39m\u001b[38;5;130;01m\\xa0\u001b[39;00m\u001b[38;5;124m\"\u001b[39m, \u001b[38;5;124m\"\u001b[39m\u001b[38;5;124m \u001b[39m\u001b[38;5;124m\"\u001b[39m)\u001b[38;5;241m.\u001b[39mstrip()\n\u001b[1;32m      3\u001b[0m \u001b[38;5;28mprint\u001b[39m(instructors)\n",
      "\u001b[0;31mNameError\u001b[0m: name 'cshl_webpage' is not defined"
     ]
    }
   ],
   "source": [
    "instructors = cshl_webpage.find('div', class_='cspeakers16').find(\"div\", class_=\"cspeakers16\")\n",
    "instructors = instructors.get_text().replace(\"\\xa0\", \" \").strip()\n",
    "print(instructors)"
   ]
  },
  {
   "cell_type": "markdown",
   "id": "45b9d419",
   "metadata": {},
   "source": [
    "#### 3. Suppose we want to extract the dates for the course, and we know that the dates are under the `cdate16` flag. Write a query to output the dates that uses the `get_text()` function"
   ]
  },
  {
   "cell_type": "code",
   "execution_count": null,
   "id": "fca6495f",
   "metadata": {},
   "outputs": [],
   "source": [
    "# Uncomment and type code here"
   ]
  }
 ],
 "metadata": {
  "kernelspec": {
   "display_name": "Python 3 (ipykernel)",
   "language": "python",
   "name": "python3"
  },
  "language_info": {
   "codemirror_mode": {
    "name": "ipython",
    "version": 3
   },
   "file_extension": ".py",
   "mimetype": "text/x-python",
   "name": "python",
   "nbconvert_exporter": "python",
   "pygments_lexer": "ipython3",
   "version": "3.11.5"
  }
 },
 "nbformat": 4,
 "nbformat_minor": 5
}

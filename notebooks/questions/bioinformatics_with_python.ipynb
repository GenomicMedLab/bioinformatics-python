{
 "cells": [
  {
   "cell_type": "markdown",
   "id": "0a5d2a85",
   "metadata": {},
   "source": [
    "# This lab contains exercises for the Bioinformatics with Python Lab held on November 19th, 2024 during the CSHL Advanced Sequencing Technologies & Bioinformatics Analysis course"
   ]
  },
  {
   "cell_type": "markdown",
   "id": "4e5d6a68",
   "metadata": {},
   "source": [
    "## Using `requests` to extract data from an API"
   ]
  },
  {
   "cell_type": "markdown",
   "id": "91e0eac2",
   "metadata": {},
   "source": [
    "#### First, let's import the `requests` library"
   ]
  },
  {
   "cell_type": "code",
   "execution_count": 3,
   "id": "18ca7fc5",
   "metadata": {},
   "outputs": [],
   "source": [
    "import requests"
   ]
  },
  {
   "cell_type": "markdown",
   "id": "02e3afae",
   "metadata": {},
   "source": [
    "#### 1. We are interested in using `requests` to query the Ensembl API to get back a record for a the TCERG1 gene. How would you determine this? Type your answer in the cell below. The Ensembl documentation for this can be viewed here: https://rest.ensembl.org/documentation/info/symbol_lookup"
   ]
  },
  {
   "cell_type": "code",
   "execution_count": null,
   "id": "759c3b93",
   "metadata": {},
   "outputs": [],
   "source": [
    "gene_symbol = \"TCERG1\"\n",
    "ensembl_gene_url = f\"https://rest.ensembl.org/lookup/symbol/homo_sapiens/{gene_symbol}?content-type=application/json\"\n",
    "ensembl_gene_record = # Uncomment and type code here"
   ]
  },
  {
   "cell_type": "markdown",
   "id": "ce3c8245",
   "metadata": {},
   "source": [
    "#### 2. How would you view the JSON output for this request?"
   ]
  },
  {
   "cell_type": "code",
   "execution_count": null,
   "id": "ea9d47e1",
   "metadata": {},
   "outputs": [],
   "source": [
    "# Uncomment and type code here"
   ]
  },
  {
   "cell_type": "markdown",
   "id": "e37f88dc",
   "metadata": {},
   "source": [
    "## Introduction to Web Scraping using `beautifulsoup4` "
   ]
  },
  {
   "cell_type": "markdown",
   "id": "a4b39cba",
   "metadata": {},
   "source": [
    "#### We're now going to be using `beautifulsoup4` to practice web scraping from the course website: https://meetings.cshl.edu/courses.aspx?course=C-SEQTEC"
   ]
  },
  {
   "cell_type": "code",
   "execution_count": 1,
   "id": "3125cf31",
   "metadata": {},
   "outputs": [],
   "source": [
    "from bs4 import BeautifulSoup"
   ]
  },
  {
   "cell_type": "markdown",
   "id": "110bb971",
   "metadata": {},
   "source": [
    "#### 1. How would you to get the list of invited speakers for the course? Type your code in the cell below:"
   ]
  },
  {
   "cell_type": "code",
   "execution_count": 6,
   "id": "088ef710",
   "metadata": {
    "scrolled": true
   },
   "outputs": [
    {
     "data": {
      "text/plain": [
       "<div class=\"cspeakers16\">\n",
       "<p class=\"MsoNormal\"><b>Katie Campbell, </b>University of California, Los Angles, Los Angles, CA<br/>\n",
       "<b>Bimal Chaudhary, </b>Nationwide Children's, Powell, OH<br/>\n",
       "<b>Justin Kinney, </b>Cold Spring Harbor Laboratory, Cold Spring Harbor, NY<br/>\n",
       "<b>Yang Li, </b>Washington University in St. Louis, Saint Louis, MO<br/>\n",
       "<b>Zachary Lippman, </b>CSHL/HHMI, Cold Spring Harbor, NY<br/>\n",
       "<b>Jessica Mozersky, </b>Washington University in St Louis, St Louis, MO<br/>\n",
       "<b>Adam Phillippy, </b>National Human Genome Research Institute, Bethesda, MA<br/>\n",
       "<b>Alex Wagner,</b> Nationwide Children's Hospital, Dublin, OH<br/>\n",
       "<span style=\"font-weight: bold;\">Jason Williams</span>, <span style=\"font-size: 1rem;\">Cold Spring Harbor Laboratory, Cold Spring Harbor, NY</span></p></div>"
      ]
     },
     "execution_count": 6,
     "metadata": {},
     "output_type": "execute_result"
    }
   ],
   "source": [
    "url = 'https://meetings.cshl.edu/courses.aspx?course=C-SEQTEC'\n",
    "response = requests.get(url)\n",
    "html_content = response.text\n",
    "cshl_webpage = BeautifulSoup(html_content, \"html.parser\")\n",
    "cshl_webpage.find('div', class_='cspeakers16').find(\"div\", class_=\"cspeakers16\")"
   ]
  },
  {
   "cell_type": "markdown",
   "id": "49a424f4",
   "metadata": {},
   "source": [
    "#### The following cell can be run to convert this to a human readable form:"
   ]
  },
  {
   "cell_type": "code",
   "execution_count": 7,
   "id": "5d27a363",
   "metadata": {},
   "outputs": [
    {
     "name": "stdout",
     "output_type": "stream",
     "text": [
      "Katie Campbell, University of California, Los Angles, Los Angles, CA\n",
      "Bimal Chaudhary, Nationwide Children's, Powell, OH\n",
      "Justin Kinney, Cold Spring Harbor Laboratory, Cold Spring Harbor, NY\n",
      "Yang Li, Washington University in St. Louis, Saint Louis, MO\n",
      "Zachary Lippman, CSHL/HHMI, Cold Spring Harbor, NY\n",
      "Jessica Mozersky, Washington University in St Louis, St Louis, MO\n",
      "Adam Phillippy, National Human Genome Research Institute, Bethesda, MA\n",
      "Alex Wagner, Nationwide Children's Hospital, Dublin, OH\n",
      "Jason Williams, Cold Spring Harbor Laboratory, Cold Spring Harbor, NY\n"
     ]
    }
   ],
   "source": [
    "instructors = cshl_webpage.find('div', class_='cspeakers16').find(\"div\", class_=\"cspeakers16\")\n",
    "insructors = instructors.get_text().replace(\"\\xa0\", \" \").strip()\n",
    "print(insructors)"
   ]
  },
  {
   "cell_type": "markdown",
   "id": "45b9d419",
   "metadata": {},
   "source": [
    "#### 3. Suppose we want to extract the dates for the course, and we know that the dates are under the `cdate16` flag. Write a query to output the dates that uses the `get_text()` function"
   ]
  },
  {
   "cell_type": "code",
   "execution_count": null,
   "id": "fca6495f",
   "metadata": {},
   "outputs": [],
   "source": [
    "# Uncomment and type code here"
   ]
  },
  {
   "cell_type": "markdown",
   "id": "13ed1ed4",
   "metadata": {},
   "source": [
    "## VCFs and Pandas"
   ]
  },
  {
   "cell_type": "markdown",
   "id": "6a2290b8",
   "metadata": {},
   "source": [
    "#### We will conclude by doing some exercises that combine analysis of variant call files (VCFs) and the pandas library. First, let's import pandas and pysam:"
   ]
  },
  {
   "cell_type": "code",
   "execution_count": null,
   "id": "d8bbda1f",
   "metadata": {},
   "outputs": [],
   "source": [
    "import pandas as pd # Used to access dataframes\n",
    "import pysam # Used to access VCFs"
   ]
  },
  {
   "cell_type": "markdown",
   "id": "cce6a250",
   "metadata": {},
   "source": [
    "#### 1. Write code to read in the VCF using pysam and print the header:"
   ]
  },
  {
   "cell_type": "code",
   "execution_count": null,
   "id": "0e819b33",
   "metadata": {},
   "outputs": [],
   "source": [
    "vcf_file = pysam.VariantFile(\"../../data/Exome_Norm_HC_calls.filtered.PASS.vcf\", index_filename=None)\n",
    "# print header here"
   ]
  },
  {
   "cell_type": "markdown",
   "id": "61acb57d",
   "metadata": {},
   "source": [
    "#### 2. Scroll through and look at the rows with the ##FORMAT flags. What do these rows mean and why are they important?"
   ]
  },
  {
   "cell_type": "markdown",
   "id": "6b8e1357",
   "metadata": {},
   "source": [
    "*Type Answer Here*:"
   ]
  },
  {
   "cell_type": "markdown",
   "id": "4562a94d",
   "metadata": {},
   "source": [
    "#### 3. Run the code below to view the first 30 variants in the vcf. What kind of variants do you see in this list? How can you tell?"
   ]
  },
  {
   "cell_type": "code",
   "execution_count": null,
   "id": "ad01250e",
   "metadata": {},
   "outputs": [],
   "source": [
    "print(\"#CHROM POS ID REF ALT QUAL FILTER INFO FORMAT HCC1395BL_DNA\")\n",
    "for index, record in enumerate(vcf_file):\n",
    "   if index == 30:\n",
    "       break\n",
    "   else:\n",
    "       print(record)"
   ]
  },
  {
   "cell_type": "markdown",
   "id": "5aea01f0",
   "metadata": {},
   "source": [
    "*Type Answer Here*:"
   ]
  },
  {
   "cell_type": "markdown",
   "id": "587da841",
   "metadata": {},
   "source": [
    "#### Run the code below to convert the VCF to a pandas dataframe:"
   ]
  },
  {
   "cell_type": "code",
   "execution_count": null,
   "id": "a32fe9c2",
   "metadata": {},
   "outputs": [],
   "source": [
    "columns = [\"chrom\", \"pos\", \"id\", \"ref\", \"alt\", \"qual\", \"filter\",\n",
    "          \"dp\", \"gt\", \"ad\", \"gq\"]\n",
    "vcf_data = []\n",
    "for record in vcf_file:\n",
    "   sample_data = record.samples[\"HCC1395BL_DNA\"]\n",
    "   vcf_data.append({\"chrom\": record.chrom,\n",
    "                  \"pos\": record.pos,\n",
    "                  \"id\": record.id,\n",
    "                  \"ref\": record.ref,\n",
    "                  \"alt\": ','.join(record.alts),\n",
    "                  \"qual\": record.qual,\n",
    "                  \"filter\": ';'.join(record.filter.keys()),\n",
    "                  \"dp\": sample_data.get(\"DP\"),\n",
    "                  \"gt\": sample_data.get(\"GT\"),\n",
    "                  \"ad\": sample_data.get(\"AD\"),\n",
    "                  \"gq\":sample_data.get(\"GQ\")})\n",
    "vcf_data = pd.DataFrame(vcf_data)\n",
    "vcf_data[\"chrom\"] = vcf_data[\"chrom\"].str.replace('chr', '', regex=False).astype(int)"
   ]
  },
  {
   "cell_type": "markdown",
   "id": "f2959a9d",
   "metadata": {},
   "source": [
    "#### 5. How many rows are in the dataframe? What pandas command can you use to determine this? "
   ]
  },
  {
   "cell_type": "code",
   "execution_count": null,
   "id": "fe0d3678",
   "metadata": {},
   "outputs": [],
   "source": []
  },
  {
   "cell_type": "markdown",
   "id": "8d1113cb",
   "metadata": {},
   "source": [
    "#### 6. We would like to take a random sample of 20 entries from the dataframe. How would we do this in pandas? Name the new dataset `vcf_subset`. Set the random state to equal 7 for reproducibility."
   ]
  },
  {
   "cell_type": "code",
   "execution_count": null,
   "id": "d71eb053",
   "metadata": {},
   "outputs": [],
   "source": []
  },
  {
   "cell_type": "markdown",
   "id": "dbd314de",
   "metadata": {},
   "source": [
    "#### 7. Suppose we want to sort the sample so that the variant positions are in **descending order**. How would you do this using pandas?"
   ]
  },
  {
   "cell_type": "code",
   "execution_count": null,
   "id": "e4c69748",
   "metadata": {},
   "outputs": [],
   "source": []
  },
  {
   "cell_type": "markdown",
   "id": "44444938",
   "metadata": {},
   "source": [
    "#### 8. We would like to only include variants that have a read depth >= 50.0 and a genotype quality >= 70.0. How would you do this using pandas?"
   ]
  },
  {
   "cell_type": "code",
   "execution_count": null,
   "id": "a63f6aa9",
   "metadata": {},
   "outputs": [],
   "source": []
  },
  {
   "cell_type": "markdown",
   "id": "2e26fce9",
   "metadata": {},
   "source": [
    "## Final Exercise"
   ]
  },
  {
   "cell_type": "markdown",
   "id": "e439aacc",
   "metadata": {},
   "source": [
    "#### A clinical colleague has asked you to examine the VCF to see if there are any frameshift variants in the coding regions of the *P2RX5* gene. How many frameshift variants are there? Write your code below to answer this question. The exon coordinates for the *P2RX5* gene are provided in the cell below."
   ]
  },
  {
   "cell_type": "code",
   "execution_count": null,
   "id": "40284ada",
   "metadata": {},
   "outputs": [],
   "source": [
    "exon_list = [[3695868,3696155], [3691643,3691794], [3690955,3691027],\n",
    "             [3690604,3690680], [3690426,3690523], [3690069,3690150],\n",
    "             [3689491,3689630], [3688625,3688759], [3688011,3688105],\n",
    "             [3681895,3681978], [3679589,3679784], [3673226,3673226]]"
   ]
  },
  {
   "cell_type": "code",
   "execution_count": null,
   "id": "0d9c394c",
   "metadata": {},
   "outputs": [],
   "source": []
  }
 ],
 "metadata": {
  "kernelspec": {
   "display_name": "Python 3 (ipykernel)",
   "language": "python",
   "name": "python3"
  },
  "language_info": {
   "codemirror_mode": {
    "name": "ipython",
    "version": 3
   },
   "file_extension": ".py",
   "mimetype": "text/x-python",
   "name": "python",
   "nbconvert_exporter": "python",
   "pygments_lexer": "ipython3",
   "version": "3.11.7"
  }
 },
 "nbformat": 4,
 "nbformat_minor": 5
}

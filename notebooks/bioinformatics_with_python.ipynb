{
 "cells": [
  {
   "cell_type": "markdown",
   "id": "0a5d2a85",
   "metadata": {},
   "source": [
    "# This lab contains exercises for the Bioinformatics with Python Lab held on November 19th, 2024 during the CSHL Advanced Sequencing Technologies & Bioinformatics Analysis course"
   ]
  },
  {
   "cell_type": "markdown",
   "id": "4e5d6a68",
   "metadata": {},
   "source": [
    "## Using `requests` to extract data from an API"
   ]
  },
  {
   "cell_type": "markdown",
   "id": "91e0eac2",
   "metadata": {},
   "source": [
    "#### First, let's import the `requests` library"
   ]
  },
  {
   "cell_type": "code",
   "execution_count": null,
   "id": "18ca7fc5",
   "metadata": {},
   "outputs": [],
   "source": [
    "import requests"
   ]
  },
  {
   "cell_type": "markdown",
   "id": "02e3afae",
   "metadata": {},
   "source": [
    "#### We are interested in using `requests` to query the Ensembl API to get back a record for a gene of interest. Run the cell below to see how this can be done:"
   ]
  },
  {
   "cell_type": "code",
   "execution_count": null,
   "id": "759c3b93",
   "metadata": {},
   "outputs": [],
   "source": [
    "gene_symbol = \"TCERG1\" # Replace with gene symbol in between the quotations\n",
    "ensembl_gene_url = f\"https://rest.ensembl.org/lookup/symbol/homo_sapiens/{gene_symbol}?content-type=application/json\"\n",
    "ensembl_gene_record = requests.get(ensembl_gene_url)"
   ]
  },
  {
   "cell_type": "markdown",
   "id": "ce3c8245",
   "metadata": {},
   "source": [
    "#### 1. What do you see when you run the cell below?"
   ]
  },
  {
   "cell_type": "code",
   "execution_count": null,
   "id": "ea9d47e1",
   "metadata": {},
   "outputs": [],
   "source": [
    "ensembl_gene_record"
   ]
  },
  {
   "cell_type": "markdown",
   "id": "a0a3dcf0",
   "metadata": {},
   "source": [
    "*Type Answer Here*:"
   ]
  },
  {
   "cell_type": "markdown",
   "id": "0d2706f4",
   "metadata": {},
   "source": [
    "#### 2. What do you see when you run the cell below? How is this different from the output above?"
   ]
  },
  {
   "cell_type": "code",
   "execution_count": null,
   "id": "bd3b8817",
   "metadata": {},
   "outputs": [],
   "source": [
    "ensembl_gene_record.json()"
   ]
  },
  {
   "cell_type": "markdown",
   "id": "ef7ea4a3",
   "metadata": {},
   "source": [
    "*Type Answer Here*:"
   ]
  },
  {
   "cell_type": "markdown",
   "id": "e37f88dc",
   "metadata": {},
   "source": [
    "## Introduction to Web Scraping using `beautifulsoup4` "
   ]
  },
  {
   "cell_type": "markdown",
   "id": "a4b39cba",
   "metadata": {},
   "source": [
    "#### We're now going to be using `beautifulsoup4` to practice web scraping from the course website: https://meetings.cshl.edu/courses.aspx?course=C-SEQTEC"
   ]
  },
  {
   "cell_type": "code",
   "execution_count": null,
   "id": "3125cf31",
   "metadata": {},
   "outputs": [],
   "source": [
    "from bs4 import BeautifulSoup"
   ]
  },
  {
   "cell_type": "markdown",
   "id": "110bb971",
   "metadata": {},
   "source": [
    "#### 1. Run the code block below to get the list of invited speakers for the course. What does the output look like?"
   ]
  },
  {
   "cell_type": "code",
   "execution_count": null,
   "id": "088ef710",
   "metadata": {
    "scrolled": true
   },
   "outputs": [],
   "source": [
    "url = 'https://meetings.cshl.edu/courses.aspx?course=C-SEQTEC'\n",
    "response = requests.get(url)\n",
    "html_content = response.text\n",
    "cshl_webpage = BeautifulSoup(html_content, \"html.parser\")\n",
    "cshl_webpage.find('div', class_='cspeakers16').find(\"div\", class_=\"cspeakers16\")"
   ]
  },
  {
   "cell_type": "markdown",
   "id": "995422c8",
   "metadata": {},
   "source": [
    "*Type Answer Here*: "
   ]
  },
  {
   "cell_type": "markdown",
   "id": "49a424f4",
   "metadata": {},
   "source": [
    "#### The code below can be run to convert this output to a human-readable form:"
   ]
  },
  {
   "cell_type": "code",
   "execution_count": null,
   "id": "5d27a363",
   "metadata": {},
   "outputs": [],
   "source": [
    "instructors = cshl_webpage.find('div', class_='cspeakers16').find(\"div\", class_=\"cspeakers16\")\n",
    "insructors = instructors.get_text().replace(\"\\xa0\", \" \").strip()\n",
    "print(insructors)"
   ]
  },
  {
   "cell_type": "markdown",
   "id": "45b9d419",
   "metadata": {},
   "source": [
    "#### 2. Suppose we want to extract the dates for the course, and we know that the dates are under the `cdate16` flag. Write a query to output the dates that uses the `get_text()` function"
   ]
  },
  {
   "cell_type": "code",
   "execution_count": null,
   "id": "fca6495f",
   "metadata": {},
   "outputs": [],
   "source": [
    "# Uncomment and type code here"
   ]
  },
  {
   "cell_type": "markdown",
   "id": "1ecfe233",
   "metadata": {},
   "source": [
    "## Storing and Accessing Data using Environment Variables"
   ]
  },
  {
   "cell_type": "markdown",
   "id": "13ed1ed4",
   "metadata": {},
   "source": [
    "## VCFs and Pandas"
   ]
  },
  {
   "cell_type": "markdown",
   "id": "6a2290b8",
   "metadata": {},
   "source": [
    "#### We will conclude by doing some exercises that combine analysis of variant call files (VCFs) and the pandas library. First, let's import pandas and pysam:"
   ]
  },
  {
   "cell_type": "code",
   "execution_count": 1,
   "id": "d8bbda1f",
   "metadata": {},
   "outputs": [],
   "source": [
    "import pandas as pd\n",
    "import pysam"
   ]
  },
  {
   "cell_type": "markdown",
   "id": "cce6a250",
   "metadata": {},
   "source": [
    "#### We would like to read in our VCF file using pysam (if you have an error statement at the bottom of your output, please ignore):"
   ]
  },
  {
   "cell_type": "code",
   "execution_count": 2,
   "id": "0e819b33",
   "metadata": {},
   "outputs": [
    {
     "name": "stdout",
     "output_type": "stream",
     "text": [
      "##fileformat=VCFv4.2\n",
      "##FILTER=<ID=PASS,Description=\"All filters passed\">\n",
      "##fileDate=20160824\n",
      "##CL=vcffilter -i - -o - --javascript \"function record() {HG001.PS=\\\".\\\";}\"\n",
      "##contig=<ID=chr1,length=248956422,assembly=human_GRCh38_no_alt_analysis_set.fasta>\n",
      "##contig=<ID=chr2,length=242193529,assembly=human_GRCh38_no_alt_analysis_set.fasta>\n",
      "##contig=<ID=chr3,length=198295559,assembly=human_GRCh38_no_alt_analysis_set.fasta>\n",
      "##contig=<ID=chr4,length=190214555,assembly=human_GRCh38_no_alt_analysis_set.fasta>\n",
      "##contig=<ID=chr5,length=181538259,assembly=human_GRCh38_no_alt_analysis_set.fasta>\n",
      "##contig=<ID=chr6,length=170805979,assembly=human_GRCh38_no_alt_analysis_set.fasta>\n",
      "##contig=<ID=chr7,length=159345973,assembly=human_GRCh38_no_alt_analysis_set.fasta>\n",
      "##contig=<ID=chr8,length=145138636,assembly=human_GRCh38_no_alt_analysis_set.fasta>\n",
      "##contig=<ID=chr9,length=138394717,assembly=human_GRCh38_no_alt_analysis_set.fasta>\n",
      "##contig=<ID=chr10,length=133797422,assembly=human_GRCh38_no_alt_analysis_set.fasta>\n",
      "##contig=<ID=chr11,length=135086622,assembly=human_GRCh38_no_alt_analysis_set.fasta>\n",
      "##contig=<ID=chr12,length=133275309,assembly=human_GRCh38_no_alt_analysis_set.fasta>\n",
      "##contig=<ID=chr13,length=114364328,assembly=human_GRCh38_no_alt_analysis_set.fasta>\n",
      "##contig=<ID=chr14,length=107043718,assembly=human_GRCh38_no_alt_analysis_set.fasta>\n",
      "##contig=<ID=chr15,length=101991189,assembly=human_GRCh38_no_alt_analysis_set.fasta>\n",
      "##contig=<ID=chr16,length=90338345,assembly=human_GRCh38_no_alt_analysis_set.fasta>\n",
      "##contig=<ID=chr17,length=83257441,assembly=human_GRCh38_no_alt_analysis_set.fasta>\n",
      "##contig=<ID=chr18,length=80373285,assembly=human_GRCh38_no_alt_analysis_set.fasta>\n",
      "##contig=<ID=chr19,length=58617616,assembly=human_GRCh38_no_alt_analysis_set.fasta>\n",
      "##contig=<ID=chr20,length=64444167,assembly=human_GRCh38_no_alt_analysis_set.fasta>\n",
      "##contig=<ID=chr21,length=46709983,assembly=human_GRCh38_no_alt_analysis_set.fasta>\n",
      "##contig=<ID=chr22,length=50818468,assembly=human_GRCh38_no_alt_analysis_set.fasta>\n",
      "##contig=<ID=chrX,length=156040895,assembly=human_GRCh38_no_alt_analysis_set.fasta>\n",
      "##contig=<ID=chrY,length=57227415,assembly=human_GRCh38_no_alt_analysis_set.fasta>\n",
      "##contig=<ID=chrM,length=16569,assembly=human_GRCh38_no_alt_analysis_set.fasta>\n",
      "##contig=<ID=chr1_KI270706v1_random,length=175055,assembly=human_GRCh38_no_alt_analysis_set.fasta>\n",
      "##contig=<ID=chr1_KI270707v1_random,length=32032,assembly=human_GRCh38_no_alt_analysis_set.fasta>\n",
      "##contig=<ID=chr1_KI270708v1_random,length=127682,assembly=human_GRCh38_no_alt_analysis_set.fasta>\n",
      "##contig=<ID=chr1_KI270709v1_random,length=66860,assembly=human_GRCh38_no_alt_analysis_set.fasta>\n",
      "##contig=<ID=chr1_KI270710v1_random,length=40176,assembly=human_GRCh38_no_alt_analysis_set.fasta>\n",
      "##contig=<ID=chr1_KI270711v1_random,length=42210,assembly=human_GRCh38_no_alt_analysis_set.fasta>\n",
      "##contig=<ID=chr1_KI270712v1_random,length=176043,assembly=human_GRCh38_no_alt_analysis_set.fasta>\n",
      "##contig=<ID=chr1_KI270713v1_random,length=40745,assembly=human_GRCh38_no_alt_analysis_set.fasta>\n",
      "##contig=<ID=chr1_KI270714v1_random,length=41717,assembly=human_GRCh38_no_alt_analysis_set.fasta>\n",
      "##contig=<ID=chr2_KI270715v1_random,length=161471,assembly=human_GRCh38_no_alt_analysis_set.fasta>\n",
      "##contig=<ID=chr2_KI270716v1_random,length=153799,assembly=human_GRCh38_no_alt_analysis_set.fasta>\n",
      "##contig=<ID=chr3_GL000221v1_random,length=155397,assembly=human_GRCh38_no_alt_analysis_set.fasta>\n",
      "##contig=<ID=chr4_GL000008v2_random,length=209709,assembly=human_GRCh38_no_alt_analysis_set.fasta>\n",
      "##contig=<ID=chr5_GL000208v1_random,length=92689,assembly=human_GRCh38_no_alt_analysis_set.fasta>\n",
      "##contig=<ID=chr9_KI270717v1_random,length=40062,assembly=human_GRCh38_no_alt_analysis_set.fasta>\n",
      "##contig=<ID=chr9_KI270718v1_random,length=38054,assembly=human_GRCh38_no_alt_analysis_set.fasta>\n",
      "##contig=<ID=chr9_KI270719v1_random,length=176845,assembly=human_GRCh38_no_alt_analysis_set.fasta>\n",
      "##contig=<ID=chr9_KI270720v1_random,length=39050,assembly=human_GRCh38_no_alt_analysis_set.fasta>\n",
      "##contig=<ID=chr11_KI270721v1_random,length=100316,assembly=human_GRCh38_no_alt_analysis_set.fasta>\n",
      "##contig=<ID=chr14_GL000009v2_random,length=201709,assembly=human_GRCh38_no_alt_analysis_set.fasta>\n",
      "##contig=<ID=chr14_GL000225v1_random,length=211173,assembly=human_GRCh38_no_alt_analysis_set.fasta>\n",
      "##contig=<ID=chr14_KI270722v1_random,length=194050,assembly=human_GRCh38_no_alt_analysis_set.fasta>\n",
      "##contig=<ID=chr14_GL000194v1_random,length=191469,assembly=human_GRCh38_no_alt_analysis_set.fasta>\n",
      "##contig=<ID=chr14_KI270723v1_random,length=38115,assembly=human_GRCh38_no_alt_analysis_set.fasta>\n",
      "##contig=<ID=chr14_KI270724v1_random,length=39555,assembly=human_GRCh38_no_alt_analysis_set.fasta>\n",
      "##contig=<ID=chr14_KI270725v1_random,length=172810,assembly=human_GRCh38_no_alt_analysis_set.fasta>\n",
      "##contig=<ID=chr14_KI270726v1_random,length=43739,assembly=human_GRCh38_no_alt_analysis_set.fasta>\n",
      "##contig=<ID=chr15_KI270727v1_random,length=448248,assembly=human_GRCh38_no_alt_analysis_set.fasta>\n",
      "##contig=<ID=chr16_KI270728v1_random,length=1872759,assembly=human_GRCh38_no_alt_analysis_set.fasta>\n",
      "##contig=<ID=chr17_GL000205v2_random,length=185591,assembly=human_GRCh38_no_alt_analysis_set.fasta>\n",
      "##contig=<ID=chr17_KI270729v1_random,length=280839,assembly=human_GRCh38_no_alt_analysis_set.fasta>\n",
      "##contig=<ID=chr17_KI270730v1_random,length=112551,assembly=human_GRCh38_no_alt_analysis_set.fasta>\n",
      "##contig=<ID=chr22_KI270731v1_random,length=150754,assembly=human_GRCh38_no_alt_analysis_set.fasta>\n",
      "##contig=<ID=chr22_KI270732v1_random,length=41543,assembly=human_GRCh38_no_alt_analysis_set.fasta>\n",
      "##contig=<ID=chr22_KI270733v1_random,length=179772,assembly=human_GRCh38_no_alt_analysis_set.fasta>\n",
      "##contig=<ID=chr22_KI270734v1_random,length=165050,assembly=human_GRCh38_no_alt_analysis_set.fasta>\n",
      "##contig=<ID=chr22_KI270735v1_random,length=42811,assembly=human_GRCh38_no_alt_analysis_set.fasta>\n",
      "##contig=<ID=chr22_KI270736v1_random,length=181920,assembly=human_GRCh38_no_alt_analysis_set.fasta>\n",
      "##contig=<ID=chr22_KI270737v1_random,length=103838,assembly=human_GRCh38_no_alt_analysis_set.fasta>\n",
      "##contig=<ID=chr22_KI270738v1_random,length=99375,assembly=human_GRCh38_no_alt_analysis_set.fasta>\n",
      "##contig=<ID=chr22_KI270739v1_random,length=73985,assembly=human_GRCh38_no_alt_analysis_set.fasta>\n",
      "##contig=<ID=chrY_KI270740v1_random,length=37240,assembly=human_GRCh38_no_alt_analysis_set.fasta>\n",
      "##contig=<ID=chrUn_KI270302v1,length=2274,assembly=human_GRCh38_no_alt_analysis_set.fasta>\n",
      "##contig=<ID=chrUn_KI270304v1,length=2165,assembly=human_GRCh38_no_alt_analysis_set.fasta>\n",
      "##contig=<ID=chrUn_KI270303v1,length=1942,assembly=human_GRCh38_no_alt_analysis_set.fasta>\n",
      "##contig=<ID=chrUn_KI270305v1,length=1472,assembly=human_GRCh38_no_alt_analysis_set.fasta>\n",
      "##contig=<ID=chrUn_KI270322v1,length=21476,assembly=human_GRCh38_no_alt_analysis_set.fasta>\n",
      "##contig=<ID=chrUn_KI270320v1,length=4416,assembly=human_GRCh38_no_alt_analysis_set.fasta>\n",
      "##contig=<ID=chrUn_KI270310v1,length=1201,assembly=human_GRCh38_no_alt_analysis_set.fasta>\n",
      "##contig=<ID=chrUn_KI270316v1,length=1444,assembly=human_GRCh38_no_alt_analysis_set.fasta>\n",
      "##contig=<ID=chrUn_KI270315v1,length=2276,assembly=human_GRCh38_no_alt_analysis_set.fasta>\n",
      "##contig=<ID=chrUn_KI270312v1,length=998,assembly=human_GRCh38_no_alt_analysis_set.fasta>\n",
      "##contig=<ID=chrUn_KI270311v1,length=12399,assembly=human_GRCh38_no_alt_analysis_set.fasta>\n",
      "##contig=<ID=chrUn_KI270317v1,length=37690,assembly=human_GRCh38_no_alt_analysis_set.fasta>\n",
      "##contig=<ID=chrUn_KI270412v1,length=1179,assembly=human_GRCh38_no_alt_analysis_set.fasta>\n",
      "##contig=<ID=chrUn_KI270411v1,length=2646,assembly=human_GRCh38_no_alt_analysis_set.fasta>\n",
      "##contig=<ID=chrUn_KI270414v1,length=2489,assembly=human_GRCh38_no_alt_analysis_set.fasta>\n",
      "##contig=<ID=chrUn_KI270419v1,length=1029,assembly=human_GRCh38_no_alt_analysis_set.fasta>\n",
      "##contig=<ID=chrUn_KI270418v1,length=2145,assembly=human_GRCh38_no_alt_analysis_set.fasta>\n",
      "##contig=<ID=chrUn_KI270420v1,length=2321,assembly=human_GRCh38_no_alt_analysis_set.fasta>\n",
      "##contig=<ID=chrUn_KI270424v1,length=2140,assembly=human_GRCh38_no_alt_analysis_set.fasta>\n",
      "##contig=<ID=chrUn_KI270417v1,length=2043,assembly=human_GRCh38_no_alt_analysis_set.fasta>\n",
      "##contig=<ID=chrUn_KI270422v1,length=1445,assembly=human_GRCh38_no_alt_analysis_set.fasta>\n",
      "##contig=<ID=chrUn_KI270423v1,length=981,assembly=human_GRCh38_no_alt_analysis_set.fasta>\n",
      "##contig=<ID=chrUn_KI270425v1,length=1884,assembly=human_GRCh38_no_alt_analysis_set.fasta>\n",
      "##contig=<ID=chrUn_KI270429v1,length=1361,assembly=human_GRCh38_no_alt_analysis_set.fasta>\n",
      "##contig=<ID=chrUn_KI270442v1,length=392061,assembly=human_GRCh38_no_alt_analysis_set.fasta>\n",
      "##contig=<ID=chrUn_KI270466v1,length=1233,assembly=human_GRCh38_no_alt_analysis_set.fasta>\n",
      "##contig=<ID=chrUn_KI270465v1,length=1774,assembly=human_GRCh38_no_alt_analysis_set.fasta>\n",
      "##contig=<ID=chrUn_KI270467v1,length=3920,assembly=human_GRCh38_no_alt_analysis_set.fasta>\n",
      "##contig=<ID=chrUn_KI270435v1,length=92983,assembly=human_GRCh38_no_alt_analysis_set.fasta>\n",
      "##contig=<ID=chrUn_KI270438v1,length=112505,assembly=human_GRCh38_no_alt_analysis_set.fasta>\n",
      "##contig=<ID=chrUn_KI270468v1,length=4055,assembly=human_GRCh38_no_alt_analysis_set.fasta>\n",
      "##contig=<ID=chrUn_KI270510v1,length=2415,assembly=human_GRCh38_no_alt_analysis_set.fasta>\n",
      "##contig=<ID=chrUn_KI270509v1,length=2318,assembly=human_GRCh38_no_alt_analysis_set.fasta>\n",
      "##contig=<ID=chrUn_KI270518v1,length=2186,assembly=human_GRCh38_no_alt_analysis_set.fasta>\n",
      "##contig=<ID=chrUn_KI270508v1,length=1951,assembly=human_GRCh38_no_alt_analysis_set.fasta>\n",
      "##contig=<ID=chrUn_KI270516v1,length=1300,assembly=human_GRCh38_no_alt_analysis_set.fasta>\n",
      "##contig=<ID=chrUn_KI270512v1,length=22689,assembly=human_GRCh38_no_alt_analysis_set.fasta>\n",
      "##contig=<ID=chrUn_KI270519v1,length=138126,assembly=human_GRCh38_no_alt_analysis_set.fasta>\n",
      "##contig=<ID=chrUn_KI270522v1,length=5674,assembly=human_GRCh38_no_alt_analysis_set.fasta>\n",
      "##contig=<ID=chrUn_KI270511v1,length=8127,assembly=human_GRCh38_no_alt_analysis_set.fasta>\n",
      "##contig=<ID=chrUn_KI270515v1,length=6361,assembly=human_GRCh38_no_alt_analysis_set.fasta>\n",
      "##contig=<ID=chrUn_KI270507v1,length=5353,assembly=human_GRCh38_no_alt_analysis_set.fasta>\n",
      "##contig=<ID=chrUn_KI270517v1,length=3253,assembly=human_GRCh38_no_alt_analysis_set.fasta>\n",
      "##contig=<ID=chrUn_KI270529v1,length=1899,assembly=human_GRCh38_no_alt_analysis_set.fasta>\n",
      "##contig=<ID=chrUn_KI270528v1,length=2983,assembly=human_GRCh38_no_alt_analysis_set.fasta>\n",
      "##contig=<ID=chrUn_KI270530v1,length=2168,assembly=human_GRCh38_no_alt_analysis_set.fasta>\n",
      "##contig=<ID=chrUn_KI270539v1,length=993,assembly=human_GRCh38_no_alt_analysis_set.fasta>\n",
      "##contig=<ID=chrUn_KI270538v1,length=91309,assembly=human_GRCh38_no_alt_analysis_set.fasta>\n",
      "##contig=<ID=chrUn_KI270544v1,length=1202,assembly=human_GRCh38_no_alt_analysis_set.fasta>\n",
      "##contig=<ID=chrUn_KI270548v1,length=1599,assembly=human_GRCh38_no_alt_analysis_set.fasta>\n",
      "##contig=<ID=chrUn_KI270583v1,length=1400,assembly=human_GRCh38_no_alt_analysis_set.fasta>\n",
      "##contig=<ID=chrUn_KI270587v1,length=2969,assembly=human_GRCh38_no_alt_analysis_set.fasta>\n",
      "##contig=<ID=chrUn_KI270580v1,length=1553,assembly=human_GRCh38_no_alt_analysis_set.fasta>\n",
      "##contig=<ID=chrUn_KI270581v1,length=7046,assembly=human_GRCh38_no_alt_analysis_set.fasta>\n",
      "##contig=<ID=chrUn_KI270579v1,length=31033,assembly=human_GRCh38_no_alt_analysis_set.fasta>\n",
      "##contig=<ID=chrUn_KI270589v1,length=44474,assembly=human_GRCh38_no_alt_analysis_set.fasta>\n",
      "##contig=<ID=chrUn_KI270590v1,length=4685,assembly=human_GRCh38_no_alt_analysis_set.fasta>\n",
      "##contig=<ID=chrUn_KI270584v1,length=4513,assembly=human_GRCh38_no_alt_analysis_set.fasta>\n",
      "##contig=<ID=chrUn_KI270582v1,length=6504,assembly=human_GRCh38_no_alt_analysis_set.fasta>\n",
      "##contig=<ID=chrUn_KI270588v1,length=6158,assembly=human_GRCh38_no_alt_analysis_set.fasta>\n",
      "##contig=<ID=chrUn_KI270593v1,length=3041,assembly=human_GRCh38_no_alt_analysis_set.fasta>\n",
      "##contig=<ID=chrUn_KI270591v1,length=5796,assembly=human_GRCh38_no_alt_analysis_set.fasta>\n",
      "##contig=<ID=chrUn_KI270330v1,length=1652,assembly=human_GRCh38_no_alt_analysis_set.fasta>\n",
      "##contig=<ID=chrUn_KI270329v1,length=1040,assembly=human_GRCh38_no_alt_analysis_set.fasta>\n",
      "##contig=<ID=chrUn_KI270334v1,length=1368,assembly=human_GRCh38_no_alt_analysis_set.fasta>\n",
      "##contig=<ID=chrUn_KI270333v1,length=2699,assembly=human_GRCh38_no_alt_analysis_set.fasta>\n",
      "##contig=<ID=chrUn_KI270335v1,length=1048,assembly=human_GRCh38_no_alt_analysis_set.fasta>\n",
      "##contig=<ID=chrUn_KI270338v1,length=1428,assembly=human_GRCh38_no_alt_analysis_set.fasta>\n",
      "##contig=<ID=chrUn_KI270340v1,length=1428,assembly=human_GRCh38_no_alt_analysis_set.fasta>\n",
      "##contig=<ID=chrUn_KI270336v1,length=1026,assembly=human_GRCh38_no_alt_analysis_set.fasta>\n",
      "##contig=<ID=chrUn_KI270337v1,length=1121,assembly=human_GRCh38_no_alt_analysis_set.fasta>\n",
      "##contig=<ID=chrUn_KI270363v1,length=1803,assembly=human_GRCh38_no_alt_analysis_set.fasta>\n",
      "##contig=<ID=chrUn_KI270364v1,length=2855,assembly=human_GRCh38_no_alt_analysis_set.fasta>\n",
      "##contig=<ID=chrUn_KI270362v1,length=3530,assembly=human_GRCh38_no_alt_analysis_set.fasta>\n",
      "##contig=<ID=chrUn_KI270366v1,length=8320,assembly=human_GRCh38_no_alt_analysis_set.fasta>\n",
      "##contig=<ID=chrUn_KI270378v1,length=1048,assembly=human_GRCh38_no_alt_analysis_set.fasta>\n",
      "##contig=<ID=chrUn_KI270379v1,length=1045,assembly=human_GRCh38_no_alt_analysis_set.fasta>\n",
      "##contig=<ID=chrUn_KI270389v1,length=1298,assembly=human_GRCh38_no_alt_analysis_set.fasta>\n",
      "##contig=<ID=chrUn_KI270390v1,length=2387,assembly=human_GRCh38_no_alt_analysis_set.fasta>\n",
      "##contig=<ID=chrUn_KI270387v1,length=1537,assembly=human_GRCh38_no_alt_analysis_set.fasta>\n",
      "##contig=<ID=chrUn_KI270395v1,length=1143,assembly=human_GRCh38_no_alt_analysis_set.fasta>\n",
      "##contig=<ID=chrUn_KI270396v1,length=1880,assembly=human_GRCh38_no_alt_analysis_set.fasta>\n",
      "##contig=<ID=chrUn_KI270388v1,length=1216,assembly=human_GRCh38_no_alt_analysis_set.fasta>\n",
      "##contig=<ID=chrUn_KI270394v1,length=970,assembly=human_GRCh38_no_alt_analysis_set.fasta>\n",
      "##contig=<ID=chrUn_KI270386v1,length=1788,assembly=human_GRCh38_no_alt_analysis_set.fasta>\n",
      "##contig=<ID=chrUn_KI270391v1,length=1484,assembly=human_GRCh38_no_alt_analysis_set.fasta>\n",
      "##contig=<ID=chrUn_KI270383v1,length=1750,assembly=human_GRCh38_no_alt_analysis_set.fasta>\n",
      "##contig=<ID=chrUn_KI270393v1,length=1308,assembly=human_GRCh38_no_alt_analysis_set.fasta>\n",
      "##contig=<ID=chrUn_KI270384v1,length=1658,assembly=human_GRCh38_no_alt_analysis_set.fasta>\n",
      "##contig=<ID=chrUn_KI270392v1,length=971,assembly=human_GRCh38_no_alt_analysis_set.fasta>\n",
      "##contig=<ID=chrUn_KI270381v1,length=1930,assembly=human_GRCh38_no_alt_analysis_set.fasta>\n",
      "##contig=<ID=chrUn_KI270385v1,length=990,assembly=human_GRCh38_no_alt_analysis_set.fasta>\n",
      "##contig=<ID=chrUn_KI270382v1,length=4215,assembly=human_GRCh38_no_alt_analysis_set.fasta>\n",
      "##contig=<ID=chrUn_KI270376v1,length=1136,assembly=human_GRCh38_no_alt_analysis_set.fasta>\n",
      "##contig=<ID=chrUn_KI270374v1,length=2656,assembly=human_GRCh38_no_alt_analysis_set.fasta>\n",
      "##contig=<ID=chrUn_KI270372v1,length=1650,assembly=human_GRCh38_no_alt_analysis_set.fasta>\n",
      "##contig=<ID=chrUn_KI270373v1,length=1451,assembly=human_GRCh38_no_alt_analysis_set.fasta>\n",
      "##contig=<ID=chrUn_KI270375v1,length=2378,assembly=human_GRCh38_no_alt_analysis_set.fasta>\n",
      "##contig=<ID=chrUn_KI270371v1,length=2805,assembly=human_GRCh38_no_alt_analysis_set.fasta>\n",
      "##contig=<ID=chrUn_KI270448v1,length=7992,assembly=human_GRCh38_no_alt_analysis_set.fasta>\n",
      "##contig=<ID=chrUn_KI270521v1,length=7642,assembly=human_GRCh38_no_alt_analysis_set.fasta>\n",
      "##contig=<ID=chrUn_GL000195v1,length=182896,assembly=human_GRCh38_no_alt_analysis_set.fasta>\n",
      "##contig=<ID=chrUn_GL000219v1,length=179198,assembly=human_GRCh38_no_alt_analysis_set.fasta>\n",
      "##contig=<ID=chrUn_GL000220v1,length=161802,assembly=human_GRCh38_no_alt_analysis_set.fasta>\n",
      "##contig=<ID=chrUn_GL000224v1,length=179693,assembly=human_GRCh38_no_alt_analysis_set.fasta>\n",
      "##contig=<ID=chrUn_KI270741v1,length=157432,assembly=human_GRCh38_no_alt_analysis_set.fasta>\n",
      "##contig=<ID=chrUn_GL000226v1,length=15008,assembly=human_GRCh38_no_alt_analysis_set.fasta>\n",
      "##contig=<ID=chrUn_GL000213v1,length=164239,assembly=human_GRCh38_no_alt_analysis_set.fasta>\n",
      "##contig=<ID=chrUn_KI270743v1,length=210658,assembly=human_GRCh38_no_alt_analysis_set.fasta>\n",
      "##contig=<ID=chrUn_KI270744v1,length=168472,assembly=human_GRCh38_no_alt_analysis_set.fasta>\n",
      "##contig=<ID=chrUn_KI270745v1,length=41891,assembly=human_GRCh38_no_alt_analysis_set.fasta>\n",
      "##contig=<ID=chrUn_KI270746v1,length=66486,assembly=human_GRCh38_no_alt_analysis_set.fasta>\n",
      "##contig=<ID=chrUn_KI270747v1,length=198735,assembly=human_GRCh38_no_alt_analysis_set.fasta>\n",
      "##contig=<ID=chrUn_KI270748v1,length=93321,assembly=human_GRCh38_no_alt_analysis_set.fasta>\n",
      "##contig=<ID=chrUn_KI270749v1,length=158759,assembly=human_GRCh38_no_alt_analysis_set.fasta>\n",
      "##contig=<ID=chrUn_KI270750v1,length=148850,assembly=human_GRCh38_no_alt_analysis_set.fasta>\n",
      "##contig=<ID=chrUn_KI270751v1,length=150742,assembly=human_GRCh38_no_alt_analysis_set.fasta>\n",
      "##contig=<ID=chrUn_KI270752v1,length=27745,assembly=human_GRCh38_no_alt_analysis_set.fasta>\n",
      "##contig=<ID=chrUn_KI270753v1,length=62944,assembly=human_GRCh38_no_alt_analysis_set.fasta>\n",
      "##contig=<ID=chrUn_KI270754v1,length=40191,assembly=human_GRCh38_no_alt_analysis_set.fasta>\n",
      "##contig=<ID=chrUn_KI270755v1,length=36723,assembly=human_GRCh38_no_alt_analysis_set.fasta>\n",
      "##contig=<ID=chrUn_KI270756v1,length=79590,assembly=human_GRCh38_no_alt_analysis_set.fasta>\n",
      "##contig=<ID=chrUn_KI270757v1,length=71251,assembly=human_GRCh38_no_alt_analysis_set.fasta>\n",
      "##contig=<ID=chrUn_GL000214v1,length=137718,assembly=human_GRCh38_no_alt_analysis_set.fasta>\n",
      "##contig=<ID=chrUn_KI270742v1,length=186739,assembly=human_GRCh38_no_alt_analysis_set.fasta>\n",
      "##contig=<ID=chrUn_GL000216v2,length=176608,assembly=human_GRCh38_no_alt_analysis_set.fasta>\n",
      "##contig=<ID=chrUn_GL000218v1,length=161147,assembly=human_GRCh38_no_alt_analysis_set.fasta>\n",
      "##contig=<ID=chrEBV,length=171823,assembly=human_GRCh38_no_alt_analysis_set.fasta>\n",
      "##FILTER=<ID=GQlessthan70,Description=\"Sum of GQ for datasets with this genotype less than 70\">\n",
      "##FILTER=<ID=allfilteredanddisagree,Description=\"All callsets have this call filtered or outside the callable regions and they have discordant genotypes or variant calls\">\n",
      "##FILTER=<ID=allfilteredbutagree,Description=\"All callsets have this call filtered or outside the callable regions but they have the same genotype\">\n",
      "##FILTER=<ID=discordantunfiltered,Description=\"Callsets with unfiltered calls have discordant genotypes or variant calls\">\n",
      "##FILTER=<ID=discordanthet,Description=\"Filtered calls where a passing call is het and a high GQ but filtered call is hom var, since often the het is wrong\">\n",
      "##FILTER=<ID=questionableindel,Description=\"Filtered calls where some callsets have a filtered indel larger than 10bp and another dataset has an implied homozygous reference call\">\n",
      "##FILTER=<ID=cgonly,Description=\"Filtered calls where only Complete Genomics had this call and it was completely missing from any other callset\">\n",
      "##FILTER=<ID=alleleimbalance,Description=\"Filtered calls where the net allele balance for unfiltered datasets is <0.2 or >0.8\">\n",
      "##FILTER=<ID=overlappingcall,Description=\"Filtered sites that are within 50bp of another passing call but none of the callsets that support the 2 calls match\">\n",
      "##INFO=<ID=DPSum,Number=1,Type=Integer,Description=\"Total read depth summed across all datasets, excluding MQ0 reads\">\n",
      "##INFO=<ID=platforms,Number=1,Type=Integer,Description=\"Number of different platforms for which at least one callset called this genotype, whether filtered or not\">\n",
      "##INFO=<ID=platformnames,Number=.,Type=String,Description=\"Names of platforms for which at least one callset called this genotype, whether filtered or not\">\n",
      "##INFO=<ID=platformbias,Number=.,Type=String,Description=\"Names of platforms that have reads containing a variant at this location, but the high-confidence call is homozygous reference, indicating that there is a potential bias.\">\n",
      "##INFO=<ID=datasets,Number=1,Type=Integer,Description=\"Number of different datasets for which at least one callset called this genotype, whether filtered or not\">\n",
      "##INFO=<ID=datasetnames,Number=.,Type=String,Description=\"Names of datasets for which at least one callset called this genotype, whether filtered or not\">\n",
      "##INFO=<ID=datasetsmissingcall,Number=.,Type=String,Description=\"Names of datasets that are missing a call or have an incorrect call at this location, and the high-confidence call is a variant\">\n",
      "##INFO=<ID=callsets,Number=1,Type=Integer,Description=\"Number of different callsets that called this genotype, whether filtered or not\">\n",
      "##INFO=<ID=callsetnames,Number=.,Type=String,Description=\"Names of callsets that called this genotype, whether filtered or not\">\n",
      "##INFO=<ID=varType,Number=1,Type=String,Description=\"Type of variant\">\n",
      "##INFO=<ID=filt,Number=.,Type=String,Description=\"List of callsets that had this call filtered.\">\n",
      "##INFO=<ID=callable,Number=.,Type=String,Description=\"List of callsets that had this call in a region with low coverage of high MQ reads.\">\n",
      "##INFO=<ID=difficultregion,Number=.,Type=String,Description=\"List of difficult region bed files containing this call.\">\n",
      "##INFO=<ID=arbitrated,Number=1,Type=String,Description=\"TRUE if callsets had discordant calls so that arbitration was needed.\">\n",
      "##INFO=<ID=callsetwiththisuniqgenopassing,Number=.,Type=String,Description=\"Callset that uniquely calls the PASSing genotype in GT when 2+ PASSing callsets support a different genotype.\">\n",
      "##INFO=<ID=callsetwithotheruniqgenopassing,Number=.,Type=String,Description=\"Callset that uniquely calls a PASSing genotype different from GT when 2+ PASSing callsets support the genotype in GT.\">\n",
      "##FORMAT=<ID=DP,Number=1,Type=Integer,Description=\"Total read depth summed across all datasets, excluding MQ0 reads\">\n",
      "##FORMAT=<ID=GQ,Number=1,Type=Integer,Description=\"Net Genotype quality across all datasets, calculated from GQ scores of callsets supporting the consensus GT, using only one callset from each dataset\">\n",
      "##FORMAT=<ID=ADALL,Number=R,Type=Integer,Description=\"Net allele depths across all datasets\">\n",
      "##FORMAT=<ID=AD,Number=R,Type=Integer,Description=\"Net allele depths across all unfiltered datasets with called genotype\">\n",
      "##FORMAT=<ID=GT,Number=1,Type=String,Description=\"Consensus Genotype across all datasets with called genotype\">\n",
      "##FORMAT=<ID=PS,Number=1,Type=Integer,Description=\"Phase set in which this variant falls\">\n",
      "#CHROM\tPOS\tID\tREF\tALT\tQUAL\tFILTER\tINFO\tFORMAT\tHG001\n",
      "\n"
     ]
    }
   ],
   "source": [
    "vcf_file = pysam.VariantFile(\"../data/Exome_Norm_HC_calls.filtered.vcf.gz\", index_filename=None)\n",
    "print(vcf_file.header)"
   ]
  },
  {
   "cell_type": "markdown",
   "id": "61acb57d",
   "metadata": {},
   "source": [
    "#### 1. Scroll down to the bottom of the output and look at the rows with the ##FORMAT flags. What do these rows mean and why are they important?"
   ]
  },
  {
   "cell_type": "markdown",
   "id": "6b8e1357",
   "metadata": {},
   "source": [
    "*Type Answer Here*:"
   ]
  },
  {
   "cell_type": "markdown",
   "id": "4562a94d",
   "metadata": {},
   "source": [
    "#### 2. Run the code below to view the first 30 variants in the vcf. What kind of variants do you see in this list? How can you tell?"
   ]
  },
  {
   "cell_type": "code",
   "execution_count": 3,
   "id": "ad01250e",
   "metadata": {},
   "outputs": [
    {
     "name": "stdout",
     "output_type": "stream",
     "text": [
      "#CHROM POS ID REF ALT QUAL FILTER INFO FORMAT HG001\n",
      "chr1\t783006\t.\tA\tG\t50\tPASS\tplatforms=4;platformnames=PacBio,Illumina,10X,CG;datasets=4;datasetnames=CCS15kb_20kb,HiSeqPE300x,10XChromiumLR,CGnormal;callsets=6;callsetnames=CCS15kb_20kbDV,CCS15kb_20kbGATK4,HiSeqPE300xGATK,10XLRGATK,CGnormal,HiSeqPE300xfreebayes;datasetsmissingcall=IonExome,SolidSE75bp;callable=CS_CCS15kb_20kbDV_callable,CS_CCS15kb_20kbGATK4_callable;filt=CS_CGnormal_filt;difficultregion=HG001.hg38.300x.bam.bilkentuniv.010920.dups,hg38.segdups_sorted_merged,lowmappabilityall\tGT:PS:DP:ADALL:AD:GQ\t1/1:.:652:16,234:0,82:312\n",
      "\n",
      "chr1\t783175\t.\tT\tC\t50\tPASS\tplatforms=4;platformnames=PacBio,Illumina,10X,Solid;datasets=4;datasetnames=CCS15kb_20kb,HiSeqPE300x,10XChromiumLR,SolidSE75bp;callsets=6;callsetnames=CCS15kb_20kbDV,CCS15kb_20kbGATK4,HiSeqPE300xGATK,10XLRGATK,HiSeqPE300xfreebayes,SolidSE75GATKHC;datasetsmissingcall=CGnormal,IonExome;callable=CS_CCS15kb_20kbDV_callable,CS_CCS15kb_20kbGATK4_callable;difficultregion=HG001.hg38.300x.bam.bilkentuniv.010920.dups,hg38.segdups_sorted_merged\tGT:PS:DP:ADALL:AD:GQ\t1/1:.:639:0,218:0,84:194\n",
      "\n",
      "chr1\t784860\t.\tT\tC\t50\tPASS\tplatforms=4;platformnames=PacBio,Illumina,10X,CG;datasets=4;datasetnames=CCS15kb_20kb,HiSeqPE300x,10XChromiumLR,CGnormal;callsets=6;callsetnames=CCS15kb_20kbDV,CCS15kb_20kbGATK4,HiSeqPE300xGATK,10XLRGATK,CGnormal,HiSeqPE300xfreebayes;datasetsmissingcall=IonExome,SolidSE75bp;callable=CS_CCS15kb_20kbDV_callable,CS_CCS15kb_20kbGATK4_callable;filt=CS_CGnormal_filt;difficultregion=HG001.hg38.300x.bam.bilkentuniv.010920.dups,hg38.segdups_sorted_merged,lowmappabilityall\tGT:PS:DP:ADALL:AD:GQ\t1/1:.:901:105,406:0,74:301\n",
      "\n",
      "chr1\t785417\t.\tG\tA\t50\tPASS\tplatforms=4;platformnames=PacBio,Illumina,10X,CG;datasets=4;datasetnames=CCS15kb_20kb,HiSeqPE300x,10XChromiumLR,CGnormal;callsets=6;callsetnames=CCS15kb_20kbDV,CCS15kb_20kbGATK4,HiSeqPE300xGATK,10XLRGATK,CGnormal,HiSeqPE300xfreebayes;datasetsmissingcall=IonExome,SolidSE75bp;callable=CS_CCS15kb_20kbDV_callable,CS_CCS15kb_20kbGATK4_callable;filt=CS_CGnormal_filt;difficultregion=HG001.hg38.300x.bam.bilkentuniv.010920.dups,hg38.segdups_sorted_merged,lowmappabilityall\tGT:PS:DP:ADALL:AD:GQ\t1/1:.:820:125,383:0,70:339\n",
      "\n",
      "chr1\t797392\t.\tG\tA\t50\tPASS\tplatforms=3;platformnames=PacBio,Illumina,10X;datasets=3;datasetnames=CCS15kb_20kb,HiSeqPE300x,10XChromiumLR;callsets=5;callsetnames=CCS15kb_20kbDV,CCS15kb_20kbGATK4,HiSeqPE300xGATK,10XLRGATK,HiSeqPE300xfreebayes;datasetsmissingcall=CGnormal,IonExome,SolidSE75bp;callable=CS_CCS15kb_20kbDV_callable,CS_CCS15kb_20kbGATK4_callable;filt=CS_10XLRGATK_filt,CS_CCS15kb_20kbGATK4_filt;difficultregion=HG001.hg38.300x.bam.bilkentuniv.010920.dups,hg38.segdups_sorted_merged,lowmappabilityall\tGT:PS:DP:ADALL:AD:GQ\t0/1:.:760:161,142:25,37:147\n",
      "\n",
      "chr1\t798618\t.\tC\tT\t50\tPASS\tplatforms=3;platformnames=PacBio,Illumina,10X;datasets=3;datasetnames=CCS15kb_20kb,HiSeqPE300x,10XChromiumLR;callsets=5;callsetnames=CCS15kb_20kbDV,CCS15kb_20kbGATK4,HiSeqPE300xGATK,10XLRGATK,HiSeqPE300xfreebayes;datasetsmissingcall=CGnormal,IonExome,SolidSE75bp;callable=CS_CCS15kb_20kbDV_callable,CS_CCS15kb_20kbGATK4_callable;filt=CS_10XLRGATK_filt;difficultregion=HG001.hg38.300x.bam.bilkentuniv.010920.dups,hg38.segdups_sorted_merged,lowmappabilityall\tGT:PS:DP:ADALL:AD:GQ\t1/1:.:526:0,196:0,65:157\n",
      "\n",
      "chr1\t798662\t.\tG\tA\t50\tPASS\tplatforms=3;platformnames=PacBio,Illumina,10X;datasets=3;datasetnames=CCS15kb_20kb,HiSeqPE300x,10XChromiumLR;callsets=5;callsetnames=CCS15kb_20kbDV,CCS15kb_20kbGATK4,HiSeqPE300xGATK,10XLRGATK,HiSeqPE300xfreebayes;datasetsmissingcall=CGnormal,IonExome,SolidSE75bp;callable=CS_CCS15kb_20kbDV_callable,CS_CCS15kb_20kbGATK4_callable;filt=CS_10XLRGATK_filt;difficultregion=HG001.hg38.300x.bam.bilkentuniv.010920.dups,hg38.segdups_sorted_merged,lowmappabilityall\tGT:PS:DP:ADALL:AD:GQ\t1/1:.:563:0,211:0,65:147\n",
      "\n",
      "chr1\t800046\t.\tG\tA\t50\tPASS\tplatforms=4;platformnames=PacBio,Illumina,10X,CG;datasets=4;datasetnames=CCS15kb_20kb,HiSeqPE300x,10XChromiumLR,CGnormal;callsets=6;callsetnames=CCS15kb_20kbDV,CCS15kb_20kbGATK4,HiSeqPE300xGATK,10XLRGATK,CGnormal,HiSeqPE300xfreebayes;datasetsmissingcall=IonExome,SolidSE75bp;callable=CS_CCS15kb_20kbDV_callable,CS_CCS15kb_20kbGATK4_callable;filt=CS_CGnormal_filt;difficultregion=HG001.hg38.300x.bam.bilkentuniv.010920.dups,hg38.segdups_sorted_merged,lowmappabilityall\tGT:PS:DP:ADALL:AD:GQ\t1/1:.:640:21,249:0,68:197\n",
      "\n",
      "chr1\t801142\t.\tA\tT\t50\tPASS\tplatforms=4;platformnames=PacBio,Illumina,10X,CG;datasets=4;datasetnames=CCS15kb_20kb,HiSeqPE300x,10XChromiumLR,CGnormal;callsets=6;callsetnames=CCS15kb_20kbDV,CCS15kb_20kbGATK4,HiSeqPE300xGATK,10XLRGATK,CGnormal,HiSeqPE300xfreebayes;datasetsmissingcall=IonExome,SolidSE75bp;callable=CS_CCS15kb_20kbDV_callable,CS_CCS15kb_20kbGATK4_callable;filt=CS_HiSeqPE300xGATK_filt,CS_CGnormal_filt,CS_HiSeqPE300xfreebayes_filt;difficultregion=HG001.hg38.300x.bam.bilkentuniv.010920.dups,hg38.segdups_sorted_merged,lowmappabilityall\tGT:PS:DP:ADALL:AD:GQ\t1/1:.:431:51,183:0,67:246\n",
      "\n",
      "chr1\t801143\t.\tT\tC\t50\tPASS\tplatforms=4;platformnames=PacBio,Illumina,10X,CG;datasets=4;datasetnames=CCS15kb_20kb,HiSeqPE300x,10XChromiumLR,CGnormal;callsets=6;callsetnames=CCS15kb_20kbDV,CCS15kb_20kbGATK4,HiSeqPE300xGATK,10XLRGATK,CGnormal,HiSeqPE300xfreebayes;datasetsmissingcall=IonExome,SolidSE75bp;callable=CS_CCS15kb_20kbDV_callable,CS_CCS15kb_20kbGATK4_callable;filt=CS_HiSeqPE300xGATK_filt,CS_CGnormal_filt,CS_HiSeqPE300xfreebayes_filt;difficultregion=HG001.hg38.300x.bam.bilkentuniv.010920.dups,hg38.segdups_sorted_merged,lowmappabilityall\tGT:PS:DP:ADALL:AD:GQ\t1/1:.:431:51,183:0,67:249\n",
      "\n",
      "chr1\t804046\t.\tA\tG\t50\tPASS\tplatforms=4;platformnames=PacBio,Illumina,10X,CG;datasets=4;datasetnames=CCS15kb_20kb,HiSeqPE300x,10XChromiumLR,CGnormal;callsets=6;callsetnames=CCS15kb_20kbDV,CCS15kb_20kbGATK4,HiSeqPE300xGATK,10XLRGATK,CGnormal,HiSeqPE300xfreebayes;datasetsmissingcall=IonExome,SolidSE75bp;callable=CS_CCS15kb_20kbDV_callable,CS_CCS15kb_20kbGATK4_callable;difficultregion=HG001.hg38.300x.bam.bilkentuniv.010920.dups,hg38.segdups_sorted_merged,lowmappabilityall\tGT:PS:DP:ADALL:AD:GQ\t1/1:.:639:47,254:0,78:334\n",
      "\n",
      "chr1\t804148\t.\tG\tA\t50\tPASS\tplatforms=3;platformnames=PacBio,Illumina,10X;datasets=3;datasetnames=CCS15kb_20kb,HiSeqPE300x,10XChromiumLR;callsets=5;callsetnames=CCS15kb_20kbDV,CCS15kb_20kbGATK4,HiSeqPE300xGATK,10XLRGATK,HiSeqPE300xfreebayes;datasetsmissingcall=CGnormal,IonExome,SolidSE75bp;callable=CS_CCS15kb_20kbDV_callable,CS_CCS15kb_20kbGATK4_callable;filt=CS_HiSeqPE300xfreebayes_filt;difficultregion=HG001.hg38.300x.bam.bilkentuniv.010920.dups,hg38.segdups_sorted_merged,lowmappabilityall\tGT:PS:DP:ADALL:AD:GQ\t1/1:.:612:0,208:0,79:156\n",
      "\n",
      "chr1\t805514\t.\tAC\tA\t50\tPASS\tplatforms=3;platformnames=PacBio,Illumina,10X;datasets=3;datasetnames=CCS15kb_20kb,HiSeqPE300x,10XChromiumLR;callsets=5;callsetnames=CCS15kb_20kbDV,CCS15kb_20kbGATK4,HiSeqPE300xGATK,10XLRGATK,HiSeqPE300xfreebayes;datasetsmissingcall=CGnormal,IonExome,SolidSE75bp;callable=CS_CCS15kb_20kbDV_callable,CS_CCS15kb_20kbGATK4_callable;filt=CS_10XLRGATK_filt,CS_CCS15kb_20kbGATK4_filt;difficultregion=HG001.hg38.300x.bam.bilkentuniv.010920.dups,hg38.segdups_sorted_merged,lowmappabilityall\tGT:PS:DP:ADALL:AD:GQ\t0/1:.:712:142,135:40,42:151\n",
      "\n",
      "chr1\t806199\t.\tT\tC\t50\tPASS\tplatforms=3;platformnames=PacBio,Illumina,10X;datasets=3;datasetnames=CCS15kb_20kb,HiSeqPE300x,10XChromiumLR;callsets=5;callsetnames=CCS15kb_20kbGATK4,HiSeqPE300xGATK,CCS15kb_20kbDV,10XLRGATK,HiSeqPE300xfreebayes;datasetsmissingcall=CGnormal,IonExome,SolidSE75bp;callable=CS_CCS15kb_20kbGATK4_callable;filt=CS_HiSeqPE300xGATK_filt,CS_10XLRGATK_filt;difficultregion=HG001.hg38.300x.bam.bilkentuniv.010920.dups,hg38.segdups_sorted_merged,lowmappabilityall\tGT:PS:DP:ADALL:AD:GQ\t1/1:.:529:0,161:0,76:197\n",
      "\n",
      "chr1\t807445\t.\tA\tG\t50\tPASS\tplatforms=3;platformnames=PacBio,Illumina,10X;datasets=3;datasetnames=CCS15kb_20kb,HiSeqPE300x,10XChromiumLR;callsets=5;callsetnames=CCS15kb_20kbDV,CCS15kb_20kbGATK4,HiSeqPE300xGATK,10XLRGATK,HiSeqPE300xfreebayes;datasetsmissingcall=CGnormal,IonExome,SolidSE75bp;callable=CS_CCS15kb_20kbDV_callable,CS_CCS15kb_20kbGATK4_callable;filt=CS_10XLRGATK_filt,CS_CCS15kb_20kbGATK4_filt;difficultregion=HG001.hg38.300x.bam.bilkentuniv.010920.dups,hg38.segdups_sorted_merged,lowmappabilityall\tGT:PS:DP:ADALL:AD:GQ\t0/1:.:773:136,148:38,51:150\n",
      "\n",
      "chr1\t807641\t.\tT\tC\t50\tPASS\tplatforms=3;platformnames=PacBio,Illumina,10X;datasets=3;datasetnames=CCS15kb_20kb,HiSeqPE300x,10XChromiumLR;callsets=5;callsetnames=CCS15kb_20kbDV,CCS15kb_20kbGATK4,HiSeqPE300xGATK,10XLRGATK,HiSeqPE300xfreebayes;datasetsmissingcall=CGnormal,IonExome,SolidSE75bp;callable=CS_CCS15kb_20kbDV_callable,CS_CCS15kb_20kbGATK4_callable;filt=CS_HiSeqPE300xGATK_filt,CS_10XLRGATK_filt,CS_CCS15kb_20kbGATK4_filt,CS_HiSeqPE300xfreebayes_filt;difficultregion=HG001.hg38.300x.bam.bilkentuniv.010920.dups,hg38.segdups_sorted_merged,lowmappabilityall\tGT:PS:DP:ADALL:AD:GQ\t0/1:.:753:157,111:51,37:158\n",
      "\n",
      "chr1\t807692\t.\tC\tA\t50\tPASS\tplatforms=3;platformnames=PacBio,Illumina,10X;datasets=3;datasetnames=CCS15kb_20kb,HiSeqPE300x,10XChromiumLR;callsets=5;callsetnames=CCS15kb_20kbDV,CCS15kb_20kbGATK4,HiSeqPE300xGATK,10XLRGATK,HiSeqPE300xfreebayes;datasetsmissingcall=CGnormal,IonExome,SolidSE75bp;callable=CS_CCS15kb_20kbDV_callable,CS_CCS15kb_20kbGATK4_callable;filt=CS_HiSeqPE300xGATK_filt,CS_10XLRGATK_filt,CS_CCS15kb_20kbGATK4_filt,CS_HiSeqPE300xfreebayes_filt;difficultregion=HG001.hg38.300x.bam.bilkentuniv.010920.dups,hg38.segdups_sorted_merged,lowmappabilityall\tGT:PS:DP:ADALL:AD:GQ\t1/1:.:802:15,283:0,87:162\n",
      "\n",
      "chr1\t813498\t.\tG\tT\t50\tPASS\tplatforms=3;platformnames=PacBio,Illumina,10X;datasets=3;datasetnames=CCS15kb_20kb,HiSeqPE300x,10XChromiumLR;callsets=5;callsetnames=CCS15kb_20kbDV,CCS15kb_20kbGATK4,HiSeqPE300xGATK,10XLRGATK,HiSeqPE300xfreebayes;datasetsmissingcall=CGnormal,IonExome,SolidSE75bp;callable=CS_CCS15kb_20kbDV_callable,CS_CCS15kb_20kbGATK4_callable;filt=CS_HiSeqPE300xGATK_filt;difficultregion=HG001.hg38.300x.bam.bilkentuniv.010920.dups,hg38.segdups_sorted_merged,lowmappabilityall\tGT:PS:DP:ADALL:AD:GQ\t1/1:.:798:3,298:0,90:161\n",
      "\n",
      "chr1\t813885\t.\tG\tA\t50\tPASS\tplatforms=3;platformnames=PacBio,Illumina,10X;datasets=3;datasetnames=CCS15kb_20kb,HiSeqPE300x,10XChromiumLR;callsets=5;callsetnames=CCS15kb_20kbDV,CCS15kb_20kbGATK4,HiSeqPE300xGATK,10XLRGATK,HiSeqPE300xfreebayes;datasetsmissingcall=CGnormal,IonExome,SolidSE75bp;callable=CS_CCS15kb_20kbDV_callable,CS_CCS15kb_20kbGATK4_callable;filt=CS_HiSeqPE300xfreebayes_filt;difficultregion=HG001.hg38.300x.bam.bilkentuniv.010920.dups,hg38.segdups_sorted_merged,lowmappabilityall\tGT:PS:DP:ADALL:AD:GQ\t1/1:.:615:0,204:0,85:161\n",
      "\n",
      "chr1\t814016\t.\tT\tG\t50\tPASS\tplatforms=3;platformnames=PacBio,Illumina,10X;datasets=3;datasetnames=CCS15kb_20kb,HiSeqPE300x,10XChromiumLR;callsets=5;callsetnames=CCS15kb_20kbDV,CCS15kb_20kbGATK4,HiSeqPE300xGATK,10XLRGATK,HiSeqPE300xfreebayes;datasetsmissingcall=CGnormal,IonExome,SolidSE75bp;callable=CS_CCS15kb_20kbDV_callable,CS_CCS15kb_20kbGATK4_callable;filt=CS_HiSeqPE300xGATK_filt,CS_10XLRGATK_filt,CS_HiSeqPE300xfreebayes_filt;difficultregion=HG001.hg38.300x.bam.bilkentuniv.010920.dups,hg38.segdups_sorted_merged,lowmappabilityall\tGT:PS:DP:ADALL:AD:GQ\t0/1:.:582:100,94:38,47:157\n",
      "\n",
      "chr1\t814033\t.\tC\tT\t50\tPASS\tplatforms=3;platformnames=PacBio,Illumina,10X;datasets=3;datasetnames=CCS15kb_20kb,HiSeqPE300x,10XChromiumLR;callsets=5;callsetnames=CCS15kb_20kbDV,CCS15kb_20kbGATK4,HiSeqPE300xGATK,10XLRGATK,HiSeqPE300xfreebayes;datasetsmissingcall=CGnormal,IonExome,SolidSE75bp;callable=CS_CCS15kb_20kbDV_callable,CS_CCS15kb_20kbGATK4_callable;filt=CS_HiSeqPE300xGATK_filt,CS_10XLRGATK_filt,CS_HiSeqPE300xfreebayes_filt;difficultregion=HG001.hg38.300x.bam.bilkentuniv.010920.dups,hg38.segdups_sorted_merged,lowmappabilityall\tGT:PS:DP:ADALL:AD:GQ\t0/1:.:574:97,91:39,47:158\n",
      "\n",
      "chr1\t814212\t.\tG\tA\t50\tPASS\tplatforms=3;platformnames=PacBio,Illumina,10X;datasets=3;datasetnames=CCS15kb_20kb,HiSeqPE300x,10XChromiumLR;callsets=5;callsetnames=CCS15kb_20kbDV,CCS15kb_20kbGATK4,HiSeqPE300xGATK,10XLRGATK,HiSeqPE300xfreebayes;datasetsmissingcall=CGnormal,IonExome,SolidSE75bp;callable=CS_CCS15kb_20kbDV_callable,CS_CCS15kb_20kbGATK4_callable;filt=CS_HiSeqPE300xGATK_filt,CS_HiSeqPE300xfreebayes_filt;difficultregion=HG001.hg38.300x.bam.bilkentuniv.010920.dups,hg38.segdups_sorted_merged,lowmappabilityall\tGT:PS:DP:ADALL:AD:GQ\t1/1:.:289:0,45:0,88:162\n",
      "\n",
      "chr1\t814264\t.\tT\tC\t50\tPASS\tplatforms=2;platformnames=PacBio,10X;datasets=2;datasetnames=CCS15kb_20kb,10XChromiumLR;callsets=3;callsetnames=CCS15kb_20kbDV,CCS15kb_20kbGATK4,10XLRGATK;datasetsmissingcall=HiSeqPE300x,CGnormal,IonExome,SolidSE75bp;callable=CS_CCS15kb_20kbDV_callable,CS_CCS15kb_20kbGATK4_callable;filt=CS_HiSeqPE300xGATK_filt,CS_HiSeqPE300xfreebayes_filt;difficultregion=HG001.hg38.300x.bam.bilkentuniv.010920.dups,hg38.segdups_sorted_merged,lowmappabilityall\tGT:PS:DP:ADALL:AD:GQ\t1/1:.:197:0,89:0,89:68\n",
      "\n",
      "chr1\t814303\t.\tC\tG\t50\tPASS\tplatforms=3;platformnames=PacBio,Illumina,10X;datasets=3;datasetnames=CCS15kb_20kb,HiSeqPE300x,10XChromiumLR;callsets=5;callsetnames=CCS15kb_20kbDV,CCS15kb_20kbGATK4,HiSeqPE300xGATK,10XLRGATK,HiSeqPE300xfreebayes;datasetsmissingcall=CGnormal,IonExome,SolidSE75bp;callable=CS_CCS15kb_20kbDV_callable,CS_CCS15kb_20kbGATK4_callable;filt=CS_HiSeqPE300xGATK_filt,CS_HiSeqPE300xfreebayes_filt;difficultregion=HG001.hg38.300x.bam.bilkentuniv.010920.dups,hg38.segdups_sorted_merged,lowmappabilityall\tGT:PS:DP:ADALL:AD:GQ\t1/1:.:330:0,61:0,88:158\n",
      "\n",
      "chr1\t814309\t.\tT\tG\t50\tPASS\tplatforms=3;platformnames=PacBio,Illumina,10X;datasets=3;datasetnames=CCS15kb_20kb,HiSeqPE300x,10XChromiumLR;callsets=5;callsetnames=CCS15kb_20kbDV,CCS15kb_20kbGATK4,HiSeqPE300xGATK,10XLRGATK,HiSeqPE300xfreebayes;datasetsmissingcall=CGnormal,IonExome,SolidSE75bp;callable=CS_CCS15kb_20kbDV_callable,CS_CCS15kb_20kbGATK4_callable;filt=CS_HiSeqPE300xGATK_filt,CS_HiSeqPE300xfreebayes_filt;difficultregion=HG001.hg38.300x.bam.bilkentuniv.010920.dups,hg38.segdups_sorted_merged,lowmappabilityall\tGT:PS:DP:ADALL:AD:GQ\t1/1:.:338:0,65:1,89:158\n",
      "\n",
      "chr1\t814378\t.\tC\tT\t50\tPASS\tplatforms=2;platformnames=PacBio,10X;datasets=2;datasetnames=CCS15kb_20kb,10XChromiumLR;callsets=3;callsetnames=CCS15kb_20kbDV,CCS15kb_20kbGATK4,10XLRGATK;datasetsmissingcall=HiSeqPE300x,CGnormal,IonExome,SolidSE75bp;callable=CS_CCS15kb_20kbDV_callable,CS_CCS15kb_20kbGATK4_callable;filt=CS_HiSeqPE300xGATK_filt,CS_HiSeqPE300xfreebayes_filt;difficultregion=HG001.hg38.300x.bam.bilkentuniv.010920.dups,hg38.segdups_sorted_merged,lowmappabilityall\tGT:PS:DP:ADALL:AD:GQ\t1/1:.:160:1,87:1,87:55\n",
      "\n",
      "chr1\t814380\t.\tC\tG\t50\tPASS\tplatforms=2;platformnames=PacBio,10X;datasets=2;datasetnames=CCS15kb_20kb,10XChromiumLR;callsets=3;callsetnames=CCS15kb_20kbDV,CCS15kb_20kbGATK4,10XLRGATK;datasetsmissingcall=HiSeqPE300x,CGnormal,IonExome,SolidSE75bp;callable=CS_CCS15kb_20kbDV_callable,CS_CCS15kb_20kbGATK4_callable;filt=CS_HiSeqPE300xGATK_filt,CS_HiSeqPE300xfreebayes_filt;difficultregion=HG001.hg38.300x.bam.bilkentuniv.010920.dups,hg38.segdups_sorted_merged,lowmappabilityall\tGT:PS:DP:ADALL:AD:GQ\t1/1:.:160:0,88:0,88:56\n",
      "\n",
      "chr1\t814476\t.\tC\tT\t50\tPASS\tplatforms=2;platformnames=PacBio,10X;datasets=2;datasetnames=CCS15kb_20kb,10XChromiumLR;callsets=3;callsetnames=CCS15kb_20kbDV,CCS15kb_20kbGATK4,10XLRGATK;datasetsmissingcall=HiSeqPE300x,CGnormal,IonExome,SolidSE75bp;callable=CS_CCS15kb_20kbDV_callable,CS_CCS15kb_20kbGATK4_callable;filt=CS_HiSeqPE300xfreebayes_filt;difficultregion=HG001.hg38.300x.bam.bilkentuniv.010920.dups,hg38.segdups_sorted_merged,lowmappabilityall\tGT:PS:DP:ADALL:AD:GQ\t1/1:.:215:0,89:0,89:59\n",
      "\n",
      "chr1\t814583\t.\tT\tTAA\t50\tPASS\tplatforms=3;platformnames=PacBio,Illumina,10X;datasets=3;datasetnames=CCS15kb_20kb,HiSeqPE300x,10XChromiumLR;callsets=5;callsetnames=CCS15kb_20kbDV,HiSeqPE300xGATK,10XLRGATK,CCS15kb_20kbGATK4,HiSeqPE300xfreebayes;datasetsmissingcall=CGnormal,IonExome,SolidSE75bp;callable=CS_CCS15kb_20kbDV_callable;filt=CS_HiSeqPE300xGATK_filt,CS_HiSeqPE300xfreebayes_filt;difficultregion=GRCh38_AllHomopolymers_gt6bp_imperfectgt10bp_slop5,HG001.hg38.300x.bam.bilkentuniv.010920.dups,hg38.segdups_sorted_merged\tGT:PS:DP:ADALL:AD:GQ\t1/1:.:337:0,82:12,70:155\n",
      "\n",
      "chr1\t814609\t.\tC\tT\t50\tPASS\tplatforms=3;platformnames=PacBio,Illumina,10X;datasets=3;datasetnames=CCS15kb_20kb,HiSeqPE300x,10XChromiumLR;callsets=5;callsetnames=CCS15kb_20kbDV,CCS15kb_20kbGATK4,HiSeqPE300xGATK,10XLRGATK,HiSeqPE300xfreebayes;datasetsmissingcall=CGnormal,IonExome,SolidSE75bp;callable=CS_CCS15kb_20kbDV_callable,CS_CCS15kb_20kbGATK4_callable;filt=CS_HiSeqPE300xGATK_filt,CS_HiSeqPE300xfreebayes_filt;difficultregion=HG001.hg38.300x.bam.bilkentuniv.010920.dups,hg38.segdups_sorted_merged\tGT:PS:DP:ADALL:AD:GQ\t1/1:.:289:0,57:0,80:158\n",
      "\n"
     ]
    }
   ],
   "source": [
    "print(\"#CHROM POS ID REF ALT QUAL FILTER INFO FORMAT HG001\")\n",
    "for index, record in enumerate(vcf_file):\n",
    "   if index == 30:\n",
    "       break\n",
    "   else:\n",
    "       print(record)"
   ]
  },
  {
   "cell_type": "markdown",
   "id": "5aea01f0",
   "metadata": {},
   "source": [
    "*Type Answer Here*:"
   ]
  },
  {
   "cell_type": "markdown",
   "id": "587da841",
   "metadata": {},
   "source": [
    "#### Run the cell below to convert the VCF data to a pandas data frame for downstream processing. This should take around 30 seconds to run."
   ]
  },
  {
   "cell_type": "code",
   "execution_count": 4,
   "id": "a32fe9c2",
   "metadata": {},
   "outputs": [],
   "source": [
    "columns = [\"chrom\", \"pos\", \"id\", \"ref\", \"alt\", \"qual\", \"filter\",\n",
    "          \"dp\", \"gt\", \"ad\", \"gq\"]\n",
    "vcf_data = []\n",
    "for record in vcf_file:\n",
    "   sample_data = record.samples[\"HG001\"]\n",
    "   vcf_data.append({\"chrom\": record.chrom,\n",
    "                  \"pos\": record.pos,\n",
    "                  \"id\": record.id,\n",
    "                  \"ref\": record.ref,\n",
    "                  \"alt\": ','.join(record.alts),\n",
    "                  \"qual\": record.qual,\n",
    "                  \"filter\": ';'.join(record.filter.keys()),\n",
    "                  \"dp\": sample_data.get(\"DP\"),\n",
    "                  \"gt\": sample_data.get(\"GT\"),\n",
    "                  \"ad\": sample_data.get(\"AD\"),\n",
    "                  \"gq\":sample_data.get(\"GQ\")})\n",
    "vcf_data = pd.DataFrame(vcf_data)\n",
    "vcf_data[\"chrom\"] = vcf_data[\"chrom\"].str.replace('chr', '', regex=False).astype(int)"
   ]
  },
  {
   "cell_type": "markdown",
   "id": "f2959a9d",
   "metadata": {},
   "source": [
    "#### 3. How many rows are in the dataframe? What pandas command can you use to determine this? "
   ]
  },
  {
   "cell_type": "code",
   "execution_count": null,
   "id": "fe0d3678",
   "metadata": {},
   "outputs": [],
   "source": []
  },
  {
   "cell_type": "markdown",
   "id": "8d1113cb",
   "metadata": {},
   "source": [
    "#### 4. We would like to take a random sample of 20 entries from the dataframe. How would we do this in pandas? Name the new dataset `vcf_subset`. Set the random state to equal 7 for reproducibility."
   ]
  },
  {
   "cell_type": "code",
   "execution_count": null,
   "id": "d71eb053",
   "metadata": {},
   "outputs": [],
   "source": []
  },
  {
   "cell_type": "markdown",
   "id": "dbd314de",
   "metadata": {},
   "source": [
    "#### 5. Suppose we want to sort the sample so that both the chromosome numbers are in **ascending order** and the variant positions are in **descending order**. How would you do this using pandas?"
   ]
  },
  {
   "cell_type": "code",
   "execution_count": null,
   "id": "e4c69748",
   "metadata": {},
   "outputs": [],
   "source": []
  },
  {
   "cell_type": "markdown",
   "id": "44444938",
   "metadata": {},
   "source": [
    "#### 6. We would like to only include variants that have a read depth >= 500.0 and a genotype quality >= 400.0. How would you do this using pandas?"
   ]
  },
  {
   "cell_type": "code",
   "execution_count": null,
   "id": "a63f6aa9",
   "metadata": {},
   "outputs": [],
   "source": []
  },
  {
   "cell_type": "markdown",
   "id": "2e26fce9",
   "metadata": {},
   "source": [
    "## Final Exercise"
   ]
  },
  {
   "cell_type": "markdown",
   "id": "e439aacc",
   "metadata": {},
   "source": [
    "#### A clinical colleague has asked you to examine the VCF to see if there are any frameshift variants in the coding regions of the *CELA1* gene. How many frameshift variants are there? Write your code below to answer this question. The exon coordinates for the *CELA1* gene are provided in the cell below."
   ]
  },
  {
   "cell_type": "code",
   "execution_count": 5,
   "id": "247198cf",
   "metadata": {},
   "outputs": [],
   "source": [
    "exon_list = [[51346622,51346679], [51345794,51345877], [51343752,51343853],\n",
    "             [51342574,51342700], [51341243,51341380], [51339859,51340005],\n",
    "             [51329683,51329833], [51328441,51328594]]"
   ]
  },
  {
   "cell_type": "code",
   "execution_count": null,
   "id": "72c4dd6e",
   "metadata": {},
   "outputs": [],
   "source": []
  }
 ],
 "metadata": {
  "kernelspec": {
   "display_name": "Python 3 (ipykernel)",
   "language": "python",
   "name": "python3"
  },
  "language_info": {
   "codemirror_mode": {
    "name": "ipython",
    "version": 3
   },
   "file_extension": ".py",
   "mimetype": "text/x-python",
   "name": "python",
   "nbconvert_exporter": "python",
   "pygments_lexer": "ipython3",
   "version": "3.11.7"
  }
 },
 "nbformat": 4,
 "nbformat_minor": 5
}

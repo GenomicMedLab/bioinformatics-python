{
 "cells": [
  {
   "cell_type": "markdown",
   "id": "0a5d2a85",
   "metadata": {},
   "source": [
    "# This lab contains exercises for the Bioinformatics with Python Lab held on November 19th, 2024 during the CSHL Advanced Sequencing Technologies & Bioinformatics Analysis course"
   ]
  },
  {
   "cell_type": "markdown",
   "id": "4e5d6a68",
   "metadata": {},
   "source": [
    "## Using `requests` to extract data from an API"
   ]
  },
  {
   "cell_type": "markdown",
   "id": "91e0eac2",
   "metadata": {},
   "source": [
    "#### First, let's import the `requests` library"
   ]
  },
  {
   "cell_type": "code",
   "execution_count": null,
   "id": "18ca7fc5",
   "metadata": {},
   "outputs": [],
   "source": [
    "import requests"
   ]
  },
  {
   "cell_type": "markdown",
   "id": "02e3afae",
   "metadata": {},
   "source": [
    "#### We are interested in using `requests` to query the Ensembl API to get back a record for a gene of interest. Run the cell below to see how this can be done:"
   ]
  },
  {
   "cell_type": "code",
   "execution_count": null,
   "id": "759c3b93",
   "metadata": {},
   "outputs": [],
   "source": [
    "gene_symbol = \"TCERG1\" # Replace with gene symbol in between the quotations\n",
    "ensembl_gene_url = f\"https://rest.ensembl.org/lookup/symbol/homo_sapiens/{gene_symbol}?content-type=application/json\"\n",
    "ensembl_gene_record = requests.get(ensembl_gene_url)"
   ]
  },
  {
   "cell_type": "markdown",
   "id": "ce3c8245",
   "metadata": {},
   "source": [
    "#### 1. What do you see when you run the cell below?"
   ]
  },
  {
   "cell_type": "code",
   "execution_count": null,
   "id": "ea9d47e1",
   "metadata": {},
   "outputs": [],
   "source": [
    "ensembl_gene_record"
   ]
  },
  {
   "cell_type": "markdown",
   "id": "a0a3dcf0",
   "metadata": {},
   "source": [
    "*Type Answer Here*:"
   ]
  },
  {
   "cell_type": "markdown",
   "id": "0d2706f4",
   "metadata": {},
   "source": [
    "#### 2. What do you see when you run the cell below? How is this different from the output above?"
   ]
  },
  {
   "cell_type": "code",
   "execution_count": null,
   "id": "bd3b8817",
   "metadata": {},
   "outputs": [],
   "source": [
    "ensembl_gene_record.json()"
   ]
  },
  {
   "cell_type": "markdown",
   "id": "ef7ea4a3",
   "metadata": {},
   "source": [
    "*Type Answer Here*:"
   ]
  },
  {
   "cell_type": "markdown",
   "id": "e37f88dc",
   "metadata": {},
   "source": [
    "## Introduction to Web Scraping using `beautifulsoup4` "
   ]
  },
  {
   "cell_type": "markdown",
   "id": "a4b39cba",
   "metadata": {},
   "source": [
    "#### We're now going to be using `beautifulsoup4` to practice web scraping from the course website: https://meetings.cshl.edu/courses.aspx?course=C-SEQTEC"
   ]
  },
  {
   "cell_type": "code",
   "execution_count": null,
   "id": "3125cf31",
   "metadata": {},
   "outputs": [],
   "source": [
    "from bs4 import BeautifulSoup"
   ]
  },
  {
   "cell_type": "markdown",
   "id": "110bb971",
   "metadata": {},
   "source": [
    "#### 1. Run the code block below to get the list of invited speakers for the course. What does the output look like?"
   ]
  },
  {
   "cell_type": "code",
   "execution_count": null,
   "id": "088ef710",
   "metadata": {
    "scrolled": true
   },
   "outputs": [],
   "source": [
    "url = 'https://meetings.cshl.edu/courses.aspx?course=C-SEQTEC'\n",
    "response = requests.get(url)\n",
    "html_content = response.text\n",
    "cshl_webpage = BeautifulSoup(html_content, \"html.parser\")\n",
    "cshl_webpage.find('div', class_='cspeakers16').find(\"div\", class_=\"cspeakers16\")"
   ]
  },
  {
   "cell_type": "markdown",
   "id": "995422c8",
   "metadata": {},
   "source": [
    "*Type Answer Here*: "
   ]
  },
  {
   "cell_type": "markdown",
   "id": "49a424f4",
   "metadata": {},
   "source": [
    "#### The code below can be run to convert this output to a human-readable form:"
   ]
  },
  {
   "cell_type": "code",
   "execution_count": null,
   "id": "5d27a363",
   "metadata": {},
   "outputs": [],
   "source": [
    "instructors = cshl_webpage.find('div', class_='cspeakers16').find(\"div\", class_=\"cspeakers16\")\n",
    "insructors = instructors.get_text().replace(\"\\xa0\", \" \").strip()\n",
    "print(insructors)"
   ]
  },
  {
   "cell_type": "markdown",
   "id": "45b9d419",
   "metadata": {},
   "source": [
    "#### 2. Suppose we want to extract the dates for the course, and we know that the dates are under the `cdate16` flag. Write a query to output the dates that uses the `get_text()` function"
   ]
  },
  {
   "cell_type": "code",
   "execution_count": null,
   "id": "fca6495f",
   "metadata": {},
   "outputs": [],
   "source": [
    "# Uncomment and type code here"
   ]
  },
  {
   "cell_type": "markdown",
   "id": "1ecfe233",
   "metadata": {},
   "source": [
    "## Storing and Accessing Data using Environment Variables"
   ]
  },
  {
   "cell_type": "markdown",
   "id": "13ed1ed4",
   "metadata": {},
   "source": [
    "## VCFs and Pandas"
   ]
  },
  {
   "cell_type": "markdown",
   "id": "6a2290b8",
   "metadata": {},
   "source": [
    "#### We will conclude by doing some exercises that combine analysis of variant call files (VCFs) and the pandas library. First, let's import pandas and pysam:"
   ]
  },
  {
   "cell_type": "code",
   "execution_count": null,
   "id": "d8bbda1f",
   "metadata": {},
   "outputs": [],
   "source": [
    "import pandas as pd\n",
    "import pysam"
   ]
  },
  {
   "cell_type": "markdown",
   "id": "cce6a250",
   "metadata": {},
   "source": [
    "#### We would like to read in our VCF file using pysam (if you have an error statement at the bottom of your output, please ignore):"
   ]
  },
  {
   "cell_type": "code",
   "execution_count": null,
   "id": "0e819b33",
   "metadata": {},
   "outputs": [],
   "source": [
    "vcf_file = pysam.VariantFile(\"../data/Exome_Norm_HC_calls.filtered.vcf.gz\", index_filename=None)\n",
    "print(vcf_file.header)"
   ]
  },
  {
   "cell_type": "markdown",
   "id": "61acb57d",
   "metadata": {},
   "source": [
    "#### 1. Scroll down to the bottom of the output and look at the rows with the ##FORMAT flags. What do these rows mean and why are they important?"
   ]
  },
  {
   "cell_type": "markdown",
   "id": "6b8e1357",
   "metadata": {},
   "source": [
    "*Type Answer Here*:"
   ]
  },
  {
   "cell_type": "markdown",
   "id": "4562a94d",
   "metadata": {},
   "source": [
    "#### 2. Run the code below to view the first 30 variants in the vcf. What kind of variants do you see in this list? How can you tell?"
   ]
  },
  {
   "cell_type": "code",
   "execution_count": null,
   "id": "ad01250e",
   "metadata": {},
   "outputs": [],
   "source": [
    "print(\"#CHROM POS ID REF ALT QUAL FILTER INFO FORMAT HG001\")\n",
    "for index, record in enumerate(vcf_file):\n",
    "   if index == 30:\n",
    "       break\n",
    "   else:\n",
    "       print(record)"
   ]
  },
  {
   "cell_type": "markdown",
   "id": "5aea01f0",
   "metadata": {},
   "source": [
    "*Type Answer Here*:"
   ]
  },
  {
   "cell_type": "markdown",
   "id": "587da841",
   "metadata": {},
   "source": [
    "#### Run the cell below to convert the VCF data to a pandas data frame for downstream processing. This should take around 30 seconds to run."
   ]
  },
  {
   "cell_type": "code",
   "execution_count": null,
   "id": "a32fe9c2",
   "metadata": {},
   "outputs": [],
   "source": [
    "columns = [\"chrom\", \"pos\", \"id\", \"ref\", \"alt\", \"qual\", \"filter\",\n",
    "          \"dp\", \"gt\", \"ad\", \"gq\"]\n",
    "vcf_data = []\n",
    "for record in vcf_file:\n",
    "   sample_data = record.samples[\"HG001\"]\n",
    "   vcf_data.append({\"chrom\": record.chrom,\n",
    "                  \"pos\": record.pos,\n",
    "                  \"id\": record.id,\n",
    "                  \"ref\": record.ref,\n",
    "                  \"alt\": ','.join(record.alts),\n",
    "                  \"qual\": record.qual,\n",
    "                  \"filter\": ';'.join(record.filter.keys()),\n",
    "                  \"dp\": sample_data.get(\"DP\"),\n",
    "                  \"gt\": sample_data.get(\"GT\"),\n",
    "                  \"ad\": sample_data.get(\"AD\"),\n",
    "                  \"gq\":sample_data.get(\"GQ\")})\n",
    "vcf_data = pd.DataFrame(vcf_data)\n",
    "vcf_data[\"chrom\"] = vcf_data[\"chrom\"].str.replace('chr', '', regex=False).astype(int)"
   ]
  },
  {
   "cell_type": "markdown",
   "id": "f2959a9d",
   "metadata": {},
   "source": [
    "#### 3. How many rows are in the dataframe? What pandas command can you use to determine this? "
   ]
  },
  {
   "cell_type": "code",
   "execution_count": null,
   "id": "fe0d3678",
   "metadata": {},
   "outputs": [],
   "source": []
  },
  {
   "cell_type": "markdown",
   "id": "8d1113cb",
   "metadata": {},
   "source": [
    "#### 4. We would like to take a random sample of 20 entries from the dataframe. How would we do this in pandas? Name the new dataset `vcf_subset`. Set the random state to equal 7 for reproducibility."
   ]
  },
  {
   "cell_type": "code",
   "execution_count": null,
   "id": "d71eb053",
   "metadata": {},
   "outputs": [],
   "source": []
  },
  {
   "cell_type": "markdown",
   "id": "dbd314de",
   "metadata": {},
   "source": [
    "#### 5. Suppose we want to sort the sample so that both the chromosome numbers are in **ascending order** and the variant positions are in **descending order**. How would you do this using pandas?"
   ]
  },
  {
   "cell_type": "code",
   "execution_count": null,
   "id": "e4c69748",
   "metadata": {},
   "outputs": [],
   "source": []
  },
  {
   "cell_type": "markdown",
   "id": "44444938",
   "metadata": {},
   "source": [
    "#### 6. We would like to only include variants that have a read depth >= 500.0 and a genotype quality >= 400.0. How would you do this using pandas?"
   ]
  },
  {
   "cell_type": "code",
   "execution_count": null,
   "id": "a63f6aa9",
   "metadata": {},
   "outputs": [],
   "source": []
  },
  {
   "cell_type": "markdown",
   "id": "2e26fce9",
   "metadata": {},
   "source": [
    "## Final Exercise"
   ]
  },
  {
   "cell_type": "markdown",
   "id": "e439aacc",
   "metadata": {},
   "source": [
    "#### A clinical colleague has asked you to examine the VCF to see if there are any frameshift variants in the coding regions of the *CELA1* gene. How many frameshift variants are there? Write your code below to answer this question. The exon coordinates for the *CELA1* gene are provided in the cell below."
   ]
  },
  {
   "cell_type": "code",
   "execution_count": null,
   "id": "247198cf",
   "metadata": {},
   "outputs": [],
   "source": [
    "exon_list = [[51346622,51346679], [51345794,51345877], [51343752,51343853],\n",
    "             [51342574,51342700], [51341243,51341380], [51339859,51340005],\n",
    "             [51329683,51329833], [51328441,51328594]]"
   ]
  },
  {
   "cell_type": "code",
   "execution_count": null,
   "id": "72c4dd6e",
   "metadata": {},
   "outputs": [],
   "source": []
  }
 ],
 "metadata": {
  "kernelspec": {
   "display_name": "Python 3 (ipykernel)",
   "language": "python",
   "name": "python3"
  },
  "language_info": {
   "codemirror_mode": {
    "name": "ipython",
    "version": 3
   },
   "file_extension": ".py",
   "mimetype": "text/x-python",
   "name": "python",
   "nbconvert_exporter": "python",
   "pygments_lexer": "ipython3",
   "version": "3.11.7"
  }
 },
 "nbformat": 4,
 "nbformat_minor": 5
}

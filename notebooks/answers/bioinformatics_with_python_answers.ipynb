{
 "cells": [
  {
   "cell_type": "markdown",
   "id": "0a5d2a85",
   "metadata": {},
   "source": [
    "# This lab contains exercises for the Bioinformatics with Python Lab held on November 19th, 2024 during the CSHL Advanced Sequencing Technologies & Bioinformatics Analysis course"
   ]
  },
  {
   "cell_type": "markdown",
   "id": "4e5d6a68",
   "metadata": {},
   "source": [
    "## Using `requests` to extract data from an API"
   ]
  },
  {
   "cell_type": "markdown",
   "id": "91e0eac2",
   "metadata": {},
   "source": [
    "#### First, let's import the `requests` library"
   ]
  },
  {
   "cell_type": "code",
   "execution_count": 1,
   "id": "18ca7fc5",
   "metadata": {},
   "outputs": [],
   "source": [
    "import requests"
   ]
  },
  {
   "cell_type": "markdown",
   "id": "02e3afae",
   "metadata": {},
   "source": [
    "#### 1. We are interested in using `requests` to query the Ensembl API to get back a record for a gene of interest. How would you determine this? Type your answer in the cell below:"
   ]
  },
  {
   "cell_type": "code",
   "execution_count": 2,
   "id": "759c3b93",
   "metadata": {},
   "outputs": [
    {
     "data": {
      "text/plain": [
       "<Response [200]>"
      ]
     },
     "execution_count": 2,
     "metadata": {},
     "output_type": "execute_result"
    }
   ],
   "source": [
    "gene_symbol = \"TCERG1\" # Replace with gene symbol in between the quotations\n",
    "ensembl_gene_url = f\"https://rest.ensembl.org/lookup/symbol/homo_sapiens/{gene_symbol}?content-type=application/json\"\n",
    "ensembl_gene_record = requests.get(ensembl_gene_url)\n",
    "ensembl_gene_record"
   ]
  },
  {
   "cell_type": "markdown",
   "id": "0d2706f4",
   "metadata": {},
   "source": [
    "#### 2. How would you view the JSON output for this request?"
   ]
  },
  {
   "cell_type": "code",
   "execution_count": 3,
   "id": "bd3b8817",
   "metadata": {},
   "outputs": [
    {
     "data": {
      "text/plain": [
       "{'end': 146511961,\n",
       " 'db_type': 'core',\n",
       " 'version': 14,\n",
       " 'strand': 1,\n",
       " 'assembly_name': 'GRCh38',\n",
       " 'seq_region_name': '5',\n",
       " 'canonical_transcript': 'ENST00000679501.2',\n",
       " 'species': 'homo_sapiens',\n",
       " 'logic_name': 'ensembl_havana_gene_homo_sapiens',\n",
       " 'start': 146447311,\n",
       " 'source': 'ensembl_havana',\n",
       " 'object_type': 'Gene',\n",
       " 'description': 'transcription elongation regulator 1 [Source:HGNC Symbol;Acc:HGNC:15630]',\n",
       " 'id': 'ENSG00000113649',\n",
       " 'display_name': 'TCERG1',\n",
       " 'biotype': 'protein_coding'}"
      ]
     },
     "execution_count": 3,
     "metadata": {},
     "output_type": "execute_result"
    }
   ],
   "source": [
    "ensembl_gene_record.json()"
   ]
  },
  {
   "cell_type": "markdown",
   "id": "e37f88dc",
   "metadata": {},
   "source": [
    "## Introduction to Web Scraping using `beautifulsoup4` "
   ]
  },
  {
   "cell_type": "markdown",
   "id": "a4b39cba",
   "metadata": {},
   "source": [
    "#### We're now going to be using `beautifulsoup4` to practice web scraping from the course website: https://meetings.cshl.edu/courses.aspx?course=C-SEQTEC"
   ]
  },
  {
   "cell_type": "code",
   "execution_count": 4,
   "id": "3125cf31",
   "metadata": {},
   "outputs": [],
   "source": [
    "from bs4 import BeautifulSoup"
   ]
  },
  {
   "cell_type": "markdown",
   "id": "110bb971",
   "metadata": {},
   "source": [
    "#### 1. How would you to get the list of invited speakers for the course? Type your code in the cell below:"
   ]
  },
  {
   "cell_type": "code",
   "execution_count": 5,
   "id": "088ef710",
   "metadata": {
    "scrolled": true
   },
   "outputs": [
    {
     "data": {
      "text/plain": [
       "<div class=\"cspeakers16\">\n",
       "<p class=\"MsoNormal\"><b>Katie Campbell, </b>University of California, Los Angles, Los Angles, CA<br/>\n",
       "<b>Bimal Chaudhary, </b>Nationwide Children's, Powell, OH<br/>\n",
       "<b>Justin Kinney, </b>Cold Spring Harbor Laboratory, Cold Spring Harbor, NY<br/>\n",
       "<b>Yang Li, </b>Washington University in St. Louis, Saint Louis, MO<br/>\n",
       "<b>Zachary Lippman, </b>CSHL/HHMI, Cold Spring Harbor, NY<br/>\n",
       "<b>Jessica Mozersky, </b>Washington University in St Louis, St Louis, MO<br/>\n",
       "<b>Adam Phillippy, </b>National Human Genome Research Institute, Bethesda, MA<br/>\n",
       "<b>Alex Wagner,</b> Nationwide Children's Hospital, Dublin, OH<br/>\n",
       "<span style=\"font-weight: bold;\">Jason Williams</span>, <span style=\"font-size: 1rem;\">Cold Spring Harbor Laboratory, Cold Spring Harbor, NY</span></p></div>"
      ]
     },
     "execution_count": 5,
     "metadata": {},
     "output_type": "execute_result"
    }
   ],
   "source": [
    "url = 'https://meetings.cshl.edu/courses.aspx?course=C-SEQTEC'\n",
    "response = requests.get(url)\n",
    "html_content = response.text\n",
    "cshl_webpage = BeautifulSoup(html_content, \"html.parser\")\n",
    "cshl_webpage.find('div', class_='cspeakers16').find(\"div\", class_=\"cspeakers16\")"
   ]
  },
  {
   "cell_type": "markdown",
   "id": "49a424f4",
   "metadata": {},
   "source": [
    "#### 2. How could you convert this to a human-readable form?"
   ]
  },
  {
   "cell_type": "code",
   "execution_count": 6,
   "id": "5d27a363",
   "metadata": {},
   "outputs": [
    {
     "name": "stdout",
     "output_type": "stream",
     "text": [
      "Katie Campbell, University of California, Los Angles, Los Angles, CA\n",
      "Bimal Chaudhary, Nationwide Children's, Powell, OH\n",
      "Justin Kinney, Cold Spring Harbor Laboratory, Cold Spring Harbor, NY\n",
      "Yang Li, Washington University in St. Louis, Saint Louis, MO\n",
      "Zachary Lippman, CSHL/HHMI, Cold Spring Harbor, NY\n",
      "Jessica Mozersky, Washington University in St Louis, St Louis, MO\n",
      "Adam Phillippy, National Human Genome Research Institute, Bethesda, MA\n",
      "Alex Wagner, Nationwide Children's Hospital, Dublin, OH\n",
      "Jason Williams, Cold Spring Harbor Laboratory, Cold Spring Harbor, NY\n"
     ]
    }
   ],
   "source": [
    "instructors = cshl_webpage.find('div', class_='cspeakers16').find(\"div\", class_=\"cspeakers16\")\n",
    "instructors = instructors.get_text().replace(\"\\xa0\", \" \").strip()\n",
    "print(instructors)"
   ]
  },
  {
   "cell_type": "markdown",
   "id": "45b9d419",
   "metadata": {},
   "source": [
    "#### 3. Suppose we want to extract the dates for the course, and we know that the dates are under the `cdate16` flag. Write a query to output the dates that uses the `get_text()` function"
   ]
  },
  {
   "cell_type": "code",
   "execution_count": 7,
   "id": "fca6495f",
   "metadata": {},
   "outputs": [
    {
     "data": {
      "text/plain": [
       "'November 10 - 23, 2024'"
      ]
     },
     "execution_count": 7,
     "metadata": {},
     "output_type": "execute_result"
    }
   ],
   "source": [
    "dates = cshl_webpage.find('div', class_='cdate16')\n",
    "dates.get_text()"
   ]
  },
  {
   "cell_type": "markdown",
   "id": "13ed1ed4",
   "metadata": {},
   "source": [
    "## VCFs and Pandas"
   ]
  },
  {
   "cell_type": "markdown",
   "id": "6a2290b8",
   "metadata": {},
   "source": [
    "#### We will conclude by doing some exercises that combine analysis of variant call files (VCFs) and the pandas library. First, let's import pandas and pysam:"
   ]
  },
  {
   "cell_type": "code",
   "execution_count": 8,
   "id": "d8bbda1f",
   "metadata": {},
   "outputs": [],
   "source": [
    "import pandas as pd\n",
    "import pysam"
   ]
  },
  {
   "cell_type": "markdown",
   "id": "cce6a250",
   "metadata": {},
   "source": [
    "#### 1. Write code to read in the VCF using pysam. How would you print the header?:"
   ]
  },
  {
   "cell_type": "code",
   "execution_count": 9,
   "id": "0e819b33",
   "metadata": {},
   "outputs": [
    {
     "name": "stdout",
     "output_type": "stream",
     "text": [
      "##fileformat=VCFv4.2\n",
      "##FILTER=<ID=PASS,Description=\"All filters passed\">\n",
      "##FILTER=<ID=FS_gt_200,Description=\"FS > 200.0\">\n",
      "##FILTER=<ID=FS_gt_60,Description=\"FS > 60.0\">\n",
      "##FILTER=<ID=LowQual,Description=\"Low quality\">\n",
      "##FILTER=<ID=QD_lt_2,Description=\"QD < 2.0\">\n",
      "##FILTER=<ID=RPRS_lt_n8,Description=\"MQ < 40.0\">\n",
      "##FILTER=<ID=SOR_gt_10,Description=\"SOR > 10.0\">\n",
      "##FILTER=<ID=SOR_gt_3,Description=\"SOR > 3.0\">\n",
      "##FORMAT=<ID=AD,Number=R,Type=Integer,Description=\"Allelic depths for the ref and alt alleles in the order listed\">\n",
      "##FORMAT=<ID=DP,Number=1,Type=Integer,Description=\"Approximate read depth (reads with MQ=255 or with bad mates are filtered)\">\n",
      "##FORMAT=<ID=GQ,Number=1,Type=Integer,Description=\"Genotype Quality\">\n",
      "##FORMAT=<ID=GT,Number=1,Type=String,Description=\"Genotype\">\n",
      "##FORMAT=<ID=PL,Number=G,Type=Integer,Description=\"Normalized, Phred-scaled likelihoods for genotypes as defined in the VCF specification\">\n",
      "##GATKCommandLine=<ID=HaplotypeCaller,CommandLine=\"HaplotypeCaller --bam-output /workspace/germline/Exome_Norm_HC_out.bam --output /workspace/germline/Exome_Norm_HC_calls.vcf --intervals chr17 --input align/Exome_Norm_sorted_mrkdup_bqsr.bam --reference /workspace/inputs/references/genome/ref_genome.fa --use-posteriors-to-calculate-qual false --dont-use-dragstr-priors false --use-new-qual-calculator true --annotate-with-num-discovered-alleles false --heterozygosity 0.001 --indel-heterozygosity 1.25E-4 --heterozygosity-stdev 0.01 --standard-min-confidence-threshold-for-calling 30.0 --max-alternate-alleles 6 --max-genotype-count 1024 --sample-ploidy 2 --num-reference-samples-if-no-call 0 --genotype-assignment-method USE_PLS_TO_ASSIGN --contamination-fraction-to-filter 0.0 --output-mode EMIT_VARIANTS_ONLY --all-site-pls false --gvcf-gq-bands 1 --gvcf-gq-bands 2 --gvcf-gq-bands 3 --gvcf-gq-bands 4 --gvcf-gq-bands 5 --gvcf-gq-bands 6 --gvcf-gq-bands 7 --gvcf-gq-bands 8 --gvcf-gq-bands 9 --gvcf-gq-bands 10 --gvcf-gq-bands 11 --gvcf-gq-bands 12 --gvcf-gq-bands 13 --gvcf-gq-bands 14 --gvcf-gq-bands 15 --gvcf-gq-bands 16 --gvcf-gq-bands 17 --gvcf-gq-bands 18 --gvcf-gq-bands 19 --gvcf-gq-bands 20 --gvcf-gq-bands 21 --gvcf-gq-bands 22 --gvcf-gq-bands 23 --gvcf-gq-bands 24 --gvcf-gq-bands 25 --gvcf-gq-bands 26 --gvcf-gq-bands 27 --gvcf-gq-bands 28 --gvcf-gq-bands 29 --gvcf-gq-bands 30 --gvcf-gq-bands 31 --gvcf-gq-bands 32 --gvcf-gq-bands 33 --gvcf-gq-bands 34 --gvcf-gq-bands 35 --gvcf-gq-bands 36 --gvcf-gq-bands 37 --gvcf-gq-bands 38 --gvcf-gq-bands 39 --gvcf-gq-bands 40 --gvcf-gq-bands 41 --gvcf-gq-bands 42 --gvcf-gq-bands 43 --gvcf-gq-bands 44 --gvcf-gq-bands 45 --gvcf-gq-bands 46 --gvcf-gq-bands 47 --gvcf-gq-bands 48 --gvcf-gq-bands 49 --gvcf-gq-bands 50 --gvcf-gq-bands 51 --gvcf-gq-bands 52 --gvcf-gq-bands 53 --gvcf-gq-bands 54 --gvcf-gq-bands 55 --gvcf-gq-bands 56 --gvcf-gq-bands 57 --gvcf-gq-bands 58 --gvcf-gq-bands 59 --gvcf-gq-bands 60 --gvcf-gq-bands 70 --gvcf-gq-bands 80 --gvcf-gq-bands 90 --gvcf-gq-bands 99 --floor-blocks false --indel-size-to-eliminate-in-ref-model 10 --disable-optimizations false --dragen-mode false --apply-bqd false --apply-frd false --disable-spanning-event-genotyping false --transform-dragen-mapping-quality false --mapping-quality-threshold-for-genotyping 20 --max-effective-depth-adjustment-for-frd 0 --just-determine-active-regions false --dont-genotype false --do-not-run-physical-phasing false --do-not-correct-overlapping-quality false --use-filtered-reads-for-annotations false --adaptive-pruning false --do-not-recover-dangling-branches false --recover-dangling-heads false --kmer-size 10 --kmer-size 25 --dont-increase-kmer-sizes-for-cycles false --allow-non-unique-kmers-in-ref false --num-pruning-samples 1 --min-dangling-branch-length 4 --recover-all-dangling-branches false --max-num-haplotypes-in-population 128 --min-pruning 2 --adaptive-pruning-initial-error-rate 0.001 --pruning-lod-threshold 2.302585092994046 --pruning-seeding-lod-threshold 9.210340371976184 --max-unpruned-variants 100 --linked-de-bruijn-graph false --disable-artificial-haplotype-recovery false --enable-legacy-graph-cycle-detection false --debug-assembly false --debug-graph-transformations false --capture-assembly-failure-bam false --num-matching-bases-in-dangling-end-to-recover -1 --error-correction-log-odds -Infinity --error-correct-reads false --kmer-length-for-read-error-correction 25 --min-observations-for-kmer-to-be-solid 20 --base-quality-score-threshold 18 --dragstr-het-hom-ratio 2 --dont-use-dragstr-pair-hmm-scores false --pair-hmm-gap-continuation-penalty 10 --expected-mismatch-rate-for-read-disqualification 0.02 --pair-hmm-implementation FASTEST_AVAILABLE --pcr-indel-model CONSERVATIVE --phred-scaled-global-read-mismapping-rate 45 --disable-symmetric-hmm-normalizing false --disable-cap-base-qualities-to-map-quality false --enable-dynamic-read-disqualification-for-genotyping false --dynamic-read-disqualification-threshold 1.0 --native-pair-hmm-threads 4 --native-pair-hmm-use-double-precision false --bam-writer-type CALLED_HAPLOTYPES --dont-use-soft-clipped-bases false --min-base-quality-score 10 --smith-waterman JAVA --emit-ref-confidence NONE --max-mnp-distance 0 --force-call-filtered-alleles false --soft-clip-low-quality-ends false --allele-informative-reads-overlap-margin 2 --min-assembly-region-size 50 --max-assembly-region-size 300 --active-probability-threshold 0.002 --max-prob-propagation-distance 50 --force-active false --assembly-region-padding 100 --padding-around-indels 75 --padding-around-snps 20 --padding-around-strs 75 --max-extension-into-assembly-region-padding-legacy 25 --max-reads-per-alignment-start 50 --enable-legacy-assembly-region-trimming false --interval-set-rule UNION --interval-padding 0 --interval-exclusion-padding 0 --interval-merging-rule ALL --read-validation-stringency SILENT --seconds-between-progress-updates 10.0 --disable-sequence-dictionary-validation false --create-output-bam-index true --create-output-bam-md5 false --create-output-variant-index true --create-output-variant-md5 false --max-variants-per-shard 0 --lenient false --add-output-sam-program-record true --add-output-vcf-command-line true --cloud-prefetch-buffer 40 --cloud-index-prefetch-buffer -1 --disable-bam-index-caching false --sites-only-vcf-output false --help false --version false --showHidden false --verbosity INFO --QUIET false --use-jdk-deflater false --use-jdk-inflater false --gcs-max-retries 20 --gcs-project-for-requester-pays  --disable-tool-default-read-filters false --minimum-mapping-quality 20 --disable-tool-default-annotations false --enable-all-annotations false --allow-old-rms-mapping-quality-annotation-data false\",Version=\"4.2.1.0\",Date=\"November 15, 2024 at 2:54:48 PM EST\">\n",
      "##GATKCommandLine=<ID=SelectVariants,CommandLine=\"SelectVariants --output /workspace/germline/Exome_Norm_HC_calls.filtered.PASS.vcf --exclude-filtered true --variant /workspace/germline/Exome_Norm_HC_calls.filtered.vcf --reference /workspace/inputs/references/genome/ref_genome.fa --invertSelect false --exclude-non-variants false --preserve-alleles false --remove-unused-alternates false --restrict-alleles-to ALL --keep-original-ac false --keep-original-dp false --mendelian-violation false --invert-mendelian-violation false --mendelian-violation-qual-threshold 0.0 --select-random-fraction 0.0 --remove-fraction-genotypes 0.0 --fully-decode false --max-indel-size 2147483647 --min-indel-size 0 --max-filtered-genotypes 2147483647 --min-filtered-genotypes 0 --max-fraction-filtered-genotypes 1.0 --min-fraction-filtered-genotypes 0.0 --max-nocall-number 2147483647 --max-nocall-fraction 1.0 --set-filtered-gt-to-nocall false --allow-nonoverlapping-command-line-samples false --suppress-reference-path false --genomicsdb-use-bcf-codec false --genomicsdb-shared-posixfs-optimizations false --genomicsdb-use-gcs-hdfs-connector false --interval-set-rule UNION --interval-padding 0 --interval-exclusion-padding 0 --interval-merging-rule ALL --read-validation-stringency SILENT --seconds-between-progress-updates 10.0 --disable-sequence-dictionary-validation false --create-output-bam-index true --create-output-bam-md5 false --create-output-variant-index true --create-output-variant-md5 false --max-variants-per-shard 0 --lenient false --add-output-sam-program-record true --add-output-vcf-command-line true --cloud-prefetch-buffer 40 --cloud-index-prefetch-buffer -1 --disable-bam-index-caching false --sites-only-vcf-output false --help false --version false --showHidden false --verbosity INFO --QUIET false --use-jdk-deflater false --use-jdk-inflater false --gcs-max-retries 20 --gcs-project-for-requester-pays  --disable-tool-default-read-filters false\",Version=\"4.2.1.0\",Date=\"November 15, 2024 at 4:43:57 PM EST\">\n",
      "##INFO=<ID=AC,Number=A,Type=Integer,Description=\"Allele count in genotypes, for each ALT allele, in the same order as listed\">\n",
      "##INFO=<ID=AF,Number=A,Type=Float,Description=\"Allele Frequency, for each ALT allele, in the same order as listed\">\n",
      "##INFO=<ID=AN,Number=1,Type=Integer,Description=\"Total number of alleles in called genotypes\">\n",
      "##INFO=<ID=BaseQRankSum,Number=1,Type=Float,Description=\"Z-score from Wilcoxon rank sum test of Alt Vs. Ref base qualities\">\n",
      "##INFO=<ID=DP,Number=1,Type=Integer,Description=\"Approximate read depth; some reads may have been filtered\">\n",
      "##INFO=<ID=ExcessHet,Number=1,Type=Float,Description=\"Phred-scaled p-value for exact test of excess heterozygosity\">\n",
      "##INFO=<ID=FS,Number=1,Type=Float,Description=\"Phred-scaled p-value using Fisher's exact test to detect strand bias\">\n",
      "##INFO=<ID=InbreedingCoeff,Number=1,Type=Float,Description=\"Inbreeding coefficient as estimated from the genotype likelihoods per-sample when compared against the Hardy-Weinberg expectation\">\n",
      "##INFO=<ID=MLEAC,Number=A,Type=Integer,Description=\"Maximum likelihood expectation (MLE) for the allele counts (not necessarily the same as the AC), for each ALT allele, in the same order as listed\">\n",
      "##INFO=<ID=MLEAF,Number=A,Type=Float,Description=\"Maximum likelihood expectation (MLE) for the allele frequency (not necessarily the same as the AF), for each ALT allele, in the same order as listed\">\n",
      "##INFO=<ID=MQ,Number=1,Type=Float,Description=\"RMS Mapping Quality\">\n",
      "##INFO=<ID=MQRankSum,Number=1,Type=Float,Description=\"Z-score From Wilcoxon rank sum test of Alt vs. Ref read mapping qualities\">\n",
      "##INFO=<ID=QD,Number=1,Type=Float,Description=\"Variant Confidence/Quality by Depth\">\n",
      "##INFO=<ID=ReadPosRankSum,Number=1,Type=Float,Description=\"Z-score from Wilcoxon rank sum test of Alt vs. Ref read position bias\">\n",
      "##INFO=<ID=SOR,Number=1,Type=Float,Description=\"Symmetric Odds Ratio of 2x2 contingency table to detect strand bias\">\n",
      "##contig=<ID=chr6,length=170805979,assembly=ref_genome.fa>\n",
      "##contig=<ID=chr17,length=83257441,assembly=ref_genome.fa>\n",
      "##reference=file:///workspace/inputs/references/genome/ref_genome.fa\n",
      "##source=HaplotypeCaller\n",
      "##source=SelectVariants\n",
      "#CHROM\tPOS\tID\tREF\tALT\tQUAL\tFILTER\tINFO\tFORMAT\tHCC1395BL_DNA\n",
      "\n"
     ]
    }
   ],
   "source": [
    "vcf_file = pysam.VariantFile(\"../../data/Exome_Norm_HC_calls.filtered.PASS.vcf\", index_filename=None)\n",
    "print(vcf_file.header)"
   ]
  },
  {
   "cell_type": "markdown",
   "id": "61acb57d",
   "metadata": {},
   "source": [
    "#### 2. Scroll through and look at the rows with the ##FORMAT flags. What do these rows mean and why are they important?"
   ]
  },
  {
   "cell_type": "markdown",
   "id": "6b8e1357",
   "metadata": {},
   "source": [
    "These rows contain information that can be used to interpret what the data in the VCF means"
   ]
  },
  {
   "cell_type": "markdown",
   "id": "4562a94d",
   "metadata": {},
   "source": [
    "#### 3. Write code below to view the first 30 variants in the vcf. What kind of variants do you see in this list? How can you tell?"
   ]
  },
  {
   "cell_type": "code",
   "execution_count": 10,
   "id": "ad01250e",
   "metadata": {},
   "outputs": [
    {
     "name": "stdout",
     "output_type": "stream",
     "text": [
      "#CHROM POS ID REF ALT QUAL FILTER INFO FORMAT HCC1395BL_DNA\n",
      "chr17\t60996\t.\tG\tC\t106.64\tPASS\tAC=1;AF=0.5;AN=2;BaseQRankSum=0;DP=7;ExcessHet=3.0103;FS=0;MLEAC=1;MLEAF=0.5;MQ=45.17;MQRankSum=-1.204;QD=15.23;ReadPosRankSum=-0.652;SOR=0.495\tGT:AD:DP:GQ:PL\t0/1:4,3:7:99:114,0,159\n",
      "\n",
      "chr17\t61004\t.\tC\tT\t103.64\tPASS\tAC=1;AF=0.5;AN=2;BaseQRankSum=0;DP=8;ExcessHet=3.0103;FS=0;MLEAC=1;MLEAF=0.5;MQ=43.32;MQRankSum=-0.647;QD=12.95;ReadPosRankSum=-0.703;SOR=0.368\tGT:AD:DP:GQ:PL\t0/1:5,3:8:99:111,0,188\n",
      "\n",
      "chr17\t61907\t.\tA\tG\t53.32\tPASS\tAC=2;AF=1;AN=2;DP=4;ExcessHet=3.0103;FS=0;MLEAC=1;MLEAF=0.5;MQ=49.93;QD=26.66;SOR=2.303\tGT:AD:DP:GQ:PL\t1/1:0,2:2:6:65,6,0\n",
      "\n",
      "chr17\t62742\t.\tC\tG\t364.64\tPASS\tAC=1;AF=0.5;AN=2;BaseQRankSum=3.846;DP=45;ExcessHet=3.0103;FS=2.869;MLEAC=1;MLEAF=0.5;MQ=59.96;MQRankSum=0;QD=24.31;ReadPosRankSum=2.598;SOR=1.942\tGT:AD:DP:GQ:PL\t0/1:3,12:15:29:372,0,29\n",
      "\n",
      "chr17\t63304\t.\tA\tG\t159.96\tPASS\tAC=2;AF=1;AN=2;DP=6;ExcessHet=3.0103;FS=0;MLEAC=2;MLEAF=1;MQ=60;QD=31.99;SOR=1.981\tGT:AD:DP:GQ:PL\t1/1:0,5:5:15:174,15,0\n",
      "\n",
      "chr17\t63396\t.\tG\tA\t197.64\tPASS\tAC=1;AF=0.5;AN=2;BaseQRankSum=-0.031;DP=43;ExcessHet=3.0103;FS=3.448;MLEAC=1;MLEAF=0.5;MQ=60;MQRankSum=0;QD=5.07;ReadPosRankSum=-0.402;SOR=0.112\tGT:AD:DP:GQ:PL\t0/1:29,10:39:99:205,0,861\n",
      "\n",
      "chr17\t63663\t.\tG\tA\t252.64\tPASS\tAC=1;AF=0.5;AN=2;BaseQRankSum=-0.559;DP=94;ExcessHet=3.0103;FS=1.65;MLEAC=1;MLEAF=0.5;MQ=60;MQRankSum=0;QD=2.75;ReadPosRankSum=2.209;SOR=0.354\tGT:AD:DP:GQ:PL\t0/1:76,16:92:99:260,0,2444\n",
      "\n",
      "chr17\t63673\t.\tG\tA\t343.64\tPASS\tAC=1;AF=0.5;AN=2;BaseQRankSum=1.669;DP=104;ExcessHet=3.0103;FS=0;MLEAC=1;MLEAF=0.5;MQ=60;MQRankSum=0;QD=3.34;ReadPosRankSum=-1.855;SOR=0.762\tGT:AD:DP:GQ:PL\t0/1:84,19:103:99:351,0,2694\n",
      "\n",
      "chr17\t64196\t.\tG\tT\t73.64\tPASS\tAC=1;AF=0.5;AN=2;BaseQRankSum=-0.269;DP=17;ExcessHet=3.0103;FS=0;MLEAC=1;MLEAF=0.5;MQ=60;MQRankSum=0;QD=4.6;ReadPosRankSum=-1.094;SOR=0.693\tGT:AD:DP:GQ:PL\t0/1:12,4:16:81:81,0,349\n",
      "\n",
      "chr17\t64572\t.\tA\tG\t45.64\tPASS\tAC=1;AF=0.5;AN=2;BaseQRankSum=1.275;DP=17;ExcessHet=3.0103;FS=2.884;MLEAC=1;MLEAF=0.5;MQ=60;MQRankSum=0;QD=2.68;ReadPosRankSum=-0.316;SOR=1.911\tGT:AD:DP:GQ:PL\t0/1:14,3:17:53:53,0,385\n",
      "\n",
      "chr17\t64628\t.\tT\tA\t37.64\tPASS\tAC=1;AF=0.5;AN=2;BaseQRankSum=0;DP=10;ExcessHet=3.0103;FS=3.332;MLEAC=1;MLEAF=0.5;MQ=58.45;MQRankSum=0;QD=4.7;ReadPosRankSum=-0.272;SOR=2.303\tGT:AD:DP:GQ:PL\t0/1:6,2:8:45:45,0,185\n",
      "\n",
      "chr17\t64823\t.\tC\tA\t438.64\tPASS\tAC=1;AF=0.5;AN=2;BaseQRankSum=1.147;DP=63;ExcessHet=3.0103;FS=0;MLEAC=1;MLEAF=0.5;MQ=60;MQRankSum=0;QD=7.56;ReadPosRankSum=-0.224;SOR=0.75\tGT:AD:DP:GQ:PL\t0/1:39,19:58:99:446,0,1041\n",
      "\n",
      "chr17\t65020\t.\tG\tT\t133.64\tPASS\tAC=1;AF=0.5;AN=2;BaseQRankSum=0.783;DP=34;ExcessHet=3.0103;FS=3.921;MLEAC=1;MLEAF=0.5;MQ=60;MQRankSum=0;QD=3.93;ReadPosRankSum=0.874;SOR=1.583\tGT:AD:DP:GQ:PL\t0/1:27,7:34:99:141,0,816\n",
      "\n",
      "chr17\t65505\t.\tG\tC\t169.02\tPASS\tAC=2;AF=1;AN=2;DP=7;ExcessHet=3.0103;FS=0;MLEAC=2;MLEAF=1;MQ=60;QD=24.15;SOR=0.941\tGT:AD:DP:GQ:PL\t1/1:0,7:7:21:183,21,0\n",
      "\n",
      "chr17\t72304\t.\tC\tT\t40.64\tPASS\tAC=1;AF=0.5;AN=2;BaseQRankSum=0;DP=6;ExcessHet=3.0103;FS=0;MLEAC=1;MLEAF=0.5;MQ=41.56;MQRankSum=-0.623;QD=6.77;ReadPosRankSum=1.834;SOR=1.179\tGT:AD:DP:GQ:PL\t0/1:4,2:6:48:48,0,117\n",
      "\n",
      "chr17\t101018\t.\tC\tA\t300.64\tPASS\tAC=1;AF=0.5;AN=2;BaseQRankSum=0.552;DP=104;ExcessHet=3.0103;FS=1.174;MLEAC=1;MLEAF=0.5;MQ=60;MQRankSum=0;QD=3.04;ReadPosRankSum=-0.61;SOR=0.437\tGT:AD:DP:GQ:PL\t0/1:81,18:99:99:308,0,2489\n",
      "\n",
      "chr17\t101107\t.\tA\tG\t454.64\tPASS\tAC=1;AF=0.5;AN=2;BaseQRankSum=0.287;DP=140;ExcessHet=3.0103;FS=15.085;MLEAC=1;MLEAF=0.5;MQ=60;MQRankSum=0;QD=3.32;ReadPosRankSum=-0.235;SOR=1.13\tGT:AD:DP:GQ:PL\t0/1:110,27:137:99:462,0,3210\n",
      "\n",
      "chr17\t106654\t.\tG\tA\t2461.64\tPASS\tAC=1;AF=0.5;AN=2;BaseQRankSum=-0.979;DP=595;ExcessHet=3.0103;FS=7.703;MLEAC=1;MLEAF=0.5;MQ=60;MQRankSum=0;QD=4.38;ReadPosRankSum=-0.362;SOR=1.721\tGT:AD:DP:GQ:PL\t0/1:438,124:562:99:2469,0,13135\n",
      "\n",
      "chr17\t106742\t.\tG\tA\t5150.64\tPASS\tAC=1;AF=0.5;AN=2;BaseQRankSum=-3.524;DP=910;ExcessHet=3.0103;FS=4.829;MLEAC=1;MLEAF=0.5;MQ=60;MQRankSum=0;QD=6.03;ReadPosRankSum=-1.13;SOR=1.055\tGT:AD:DP:GQ:PL\t0/1:617,237:854:99:5158,0,18178\n",
      "\n",
      "chr17\t106779\t.\tG\tA\t4979.64\tPASS\tAC=1;AF=0.5;AN=2;BaseQRankSum=-2.321;DP=891;ExcessHet=3.0103;FS=4.696;MLEAC=1;MLEAF=0.5;MQ=60;MQRankSum=0;QD=5.96;ReadPosRankSum=-1.431;SOR=0.922\tGT:AD:DP:GQ:PL\t0/1:607,228:835:99:4987,0,17862\n",
      "\n",
      "chr17\t110362\t.\tAAGG\tA\t61.6\tPASS\tAC=1;AF=0.5;AN=2;BaseQRankSum=0;DP=8;ExcessHet=3.0103;FS=0;MLEAC=1;MLEAF=0.5;MQ=58.74;MQRankSum=0.366;QD=8.8;ReadPosRankSum=0.712;SOR=0.148\tGT:AD:DP:GQ:PL\t0/1:5,2:7:69:69,0,204\n",
      "\n",
      "chr17\t116159\t.\tG\tC\t180.66\tPASS\tAC=1;AF=0.5;AN=2;BaseQRankSum=0;DP=8;ExcessHet=3.0103;FS=0;MLEAC=1;MLEAF=0.5;MQ=60;MQRankSum=0;QD=25.81;ReadPosRankSum=-1.465;SOR=2.584\tGT:AD:DP:GQ:PL\t0/1:1,6:7:14:188,0,14\n",
      "\n",
      "chr17\t116270\t.\tG\tC\t1528.64\tPASS\tAC=1;AF=0.5;AN=2;BaseQRankSum=0.036;DP=65;ExcessHet=3.0103;FS=0;MLEAC=1;MLEAF=0.5;MQ=60;MQRankSum=0;QD=24.66;ReadPosRankSum=0.821;SOR=1.075\tGT:AD:DP:GQ:PL\t0/1:11,51:62:99:1536,0,308\n",
      "\n",
      "chr17\t116282\t.\tC\tG\t290.64\tPASS\tAC=1;AF=0.5;AN=2;BaseQRankSum=-0.791;DP=81;ExcessHet=3.0103;FS=0;MLEAC=1;MLEAF=0.5;MQ=59.79;MQRankSum=0;QD=3.68;ReadPosRankSum=-1.207;SOR=0.243\tGT:AD:DP:GQ:PL\t0/1:63,16:79:99:298,0,2558\n",
      "\n",
      "chr17\t116287\t.\tGA\tG\t1111.6\tPASS\tAC=1;AF=0.5;AN=2;BaseQRankSum=0.19;DP=88;ExcessHet=3.0103;FS=0;MLEAC=1;MLEAF=0.5;MQ=59.81;MQRankSum=0;QD=15.02;ReadPosRankSum=1.065;SOR=0.807\tGT:AD:DP:GQ:PL\t0/1:23,51:74:99:1119,0,656\n",
      "\n",
      "chr17\t116354\t.\tC\tT\t2846.64\tPASS\tAC=1;AF=0.5;AN=2;BaseQRankSum=4.894;DP=126;ExcessHet=3.0103;FS=1.087;MLEAC=1;MLEAF=0.5;MQ=60;MQRankSum=0;QD=22.59;ReadPosRankSum=-1.183;SOR=0.517\tGT:AD:DP:GQ:PL\t0/1:33,93:126:99:2854,0,1075\n",
      "\n",
      "chr17\t116361\t.\tT\tA\t978.64\tPASS\tAC=1;AF=0.5;AN=2;BaseQRankSum=-3.314;DP=122;ExcessHet=3.0103;FS=1.079;MLEAC=1;MLEAF=0.5;MQ=60;MQRankSum=0;QD=8.09;ReadPosRankSum=0.971;SOR=0.815\tGT:AD:DP:GQ:PL\t0/1:91,30:121:99:986,0,3700\n",
      "\n",
      "chr17\t116362\t.\tC\tA\t984.64\tPASS\tAC=1;AF=0.5;AN=2;BaseQRankSum=-3.337;DP=121;ExcessHet=3.0103;FS=0;MLEAC=1;MLEAF=0.5;MQ=60;MQRankSum=0;QD=8.27;ReadPosRankSum=1.002;SOR=0.759\tGT:AD:DP:GQ:PL\t0/1:89,30:119:99:992,0,3637\n",
      "\n",
      "chr17\t116429\t.\tT\tC\t2031.06\tPASS\tAC=2;AF=1;AN=2;DP=54;ExcessHet=3.0103;FS=4.551;MLEAC=2;MLEAF=1;MQ=60;MQRankSum=0;QD=25.36;SOR=2.925\tGT:AD:DP:GQ:PL\t1/1:2,50:52:87:2045,87,0\n",
      "\n",
      "chr17\t116441\t.\tT\tC\t2557.64\tPASS\tAC=1;AF=0.5;AN=2;BaseQRankSum=0;DP=90;ExcessHet=3.0103;FS=0;MLEAC=1;MLEAF=0.5;MQ=60;MQRankSum=0;QD=31.19;ReadPosRankSum=3.398;SOR=0.809\tGT:AD:DP:GQ:PL\t0/1:12,70:82:99:2565,0,169\n",
      "\n"
     ]
    }
   ],
   "source": [
    "print(\"#CHROM POS ID REF ALT QUAL FILTER INFO FORMAT HCC1395BL_DNA\")\n",
    "for index, record in enumerate(vcf_file):\n",
    "   if index == 30:\n",
    "       break\n",
    "   else:\n",
    "       print(record)"
   ]
  },
  {
   "cell_type": "markdown",
   "id": "5aea01f0",
   "metadata": {},
   "source": [
    "This subset contains substitutions and deletions. This can be determined by comparing the sequences for `ref` and `alt`. For substitutions, they have equal length, while for deletions, the length of `ref` is greater than the length of `alt`."
   ]
  },
  {
   "cell_type": "markdown",
   "id": "587da841",
   "metadata": {},
   "source": [
    "#### Run the code below to convert the VCF to a pandas dataframe:"
   ]
  },
  {
   "cell_type": "code",
   "execution_count": 11,
   "id": "a32fe9c2",
   "metadata": {},
   "outputs": [],
   "source": [
    "columns = [\"chrom\", \"pos\", \"id\", \"ref\", \"alt\", \"qual\", \"filter\",\n",
    "          \"dp\", \"gt\", \"ad\", \"gq\"]\n",
    "vcf_data = []\n",
    "for record in vcf_file:\n",
    "   sample_data = record.samples[\"HCC1395BL_DNA\"]\n",
    "   vcf_data.append({\"chrom\": record.chrom,\n",
    "                  \"pos\": record.pos,\n",
    "                  \"id\": record.id,\n",
    "                  \"ref\": record.ref,\n",
    "                  \"alt\": ','.join(record.alts),\n",
    "                  \"qual\": record.qual,\n",
    "                  \"filter\": ';'.join(record.filter.keys()),\n",
    "                  \"dp\": sample_data.get(\"DP\"),\n",
    "                  \"gt\": sample_data.get(\"GT\"),\n",
    "                  \"ad\": sample_data.get(\"AD\"),\n",
    "                  \"gq\":sample_data.get(\"GQ\")})\n",
    "vcf_data = pd.DataFrame(vcf_data)\n",
    "vcf_data[\"chrom\"] = vcf_data[\"chrom\"].str.replace('chr', '', regex=False).astype(int)"
   ]
  },
  {
   "cell_type": "markdown",
   "id": "f2959a9d",
   "metadata": {},
   "source": [
    "#### 4. How many rows are in the dataframe? What pandas command can you use to determine this? "
   ]
  },
  {
   "cell_type": "code",
   "execution_count": 12,
   "id": "fe0d3678",
   "metadata": {},
   "outputs": [
    {
     "data": {
      "text/plain": [
       "11338"
      ]
     },
     "execution_count": 12,
     "metadata": {},
     "output_type": "execute_result"
    }
   ],
   "source": [
    "len(vcf_data)"
   ]
  },
  {
   "cell_type": "markdown",
   "id": "8d1113cb",
   "metadata": {},
   "source": [
    "#### 5. We would like to take a random sample of 20 entries from the dataframe. How would we do this in pandas? Name the new dataset `vcf_subset`. Set the random state to equal 7 for reproducibility."
   ]
  },
  {
   "cell_type": "code",
   "execution_count": 13,
   "id": "d71eb053",
   "metadata": {},
   "outputs": [],
   "source": [
    "vcf_subset = vcf_data.sample(n=20, random_state=7)"
   ]
  },
  {
   "cell_type": "markdown",
   "id": "dbd314de",
   "metadata": {},
   "source": [
    "#### 6. Suppose we want to sort the sample so that the variant positions are in **descending order**. How would you do this using pandas?"
   ]
  },
  {
   "cell_type": "code",
   "execution_count": 14,
   "id": "e4c69748",
   "metadata": {},
   "outputs": [
    {
     "data": {
      "text/html": [
       "<div>\n",
       "<style scoped>\n",
       "    .dataframe tbody tr th:only-of-type {\n",
       "        vertical-align: middle;\n",
       "    }\n",
       "\n",
       "    .dataframe tbody tr th {\n",
       "        vertical-align: top;\n",
       "    }\n",
       "\n",
       "    .dataframe thead th {\n",
       "        text-align: right;\n",
       "    }\n",
       "</style>\n",
       "<table border=\"1\" class=\"dataframe\">\n",
       "  <thead>\n",
       "    <tr style=\"text-align: right;\">\n",
       "      <th></th>\n",
       "      <th>chrom</th>\n",
       "      <th>pos</th>\n",
       "      <th>id</th>\n",
       "      <th>ref</th>\n",
       "      <th>alt</th>\n",
       "      <th>qual</th>\n",
       "      <th>filter</th>\n",
       "      <th>dp</th>\n",
       "      <th>gt</th>\n",
       "      <th>ad</th>\n",
       "      <th>gq</th>\n",
       "    </tr>\n",
       "  </thead>\n",
       "  <tbody>\n",
       "    <tr>\n",
       "      <th>11226</th>\n",
       "      <td>17</td>\n",
       "      <td>82664414</td>\n",
       "      <td>None</td>\n",
       "      <td>A</td>\n",
       "      <td>G</td>\n",
       "      <td>686.640015</td>\n",
       "      <td>PASS</td>\n",
       "      <td>55</td>\n",
       "      <td>(0, 1)</td>\n",
       "      <td>(30, 25)</td>\n",
       "      <td>99</td>\n",
       "    </tr>\n",
       "    <tr>\n",
       "      <th>10883</th>\n",
       "      <td>17</td>\n",
       "      <td>81282112</td>\n",
       "      <td>None</td>\n",
       "      <td>C</td>\n",
       "      <td>T</td>\n",
       "      <td>1187.640015</td>\n",
       "      <td>PASS</td>\n",
       "      <td>78</td>\n",
       "      <td>(0, 1)</td>\n",
       "      <td>(34, 44)</td>\n",
       "      <td>99</td>\n",
       "    </tr>\n",
       "    <tr>\n",
       "      <th>10048</th>\n",
       "      <td>17</td>\n",
       "      <td>76974871</td>\n",
       "      <td>None</td>\n",
       "      <td>C</td>\n",
       "      <td>T</td>\n",
       "      <td>58.320000</td>\n",
       "      <td>PASS</td>\n",
       "      <td>2</td>\n",
       "      <td>(1, 1)</td>\n",
       "      <td>(0, 2)</td>\n",
       "      <td>6</td>\n",
       "    </tr>\n",
       "    <tr>\n",
       "      <th>9229</th>\n",
       "      <td>17</td>\n",
       "      <td>74249847</td>\n",
       "      <td>None</td>\n",
       "      <td>CCACTGTGGGGCTCCTGGGAGACGGAGCCT</td>\n",
       "      <td>C</td>\n",
       "      <td>1340.030029</td>\n",
       "      <td>PASS</td>\n",
       "      <td>30</td>\n",
       "      <td>(1, 1)</td>\n",
       "      <td>(0, 30)</td>\n",
       "      <td>92</td>\n",
       "    </tr>\n",
       "    <tr>\n",
       "      <th>9099</th>\n",
       "      <td>17</td>\n",
       "      <td>73235465</td>\n",
       "      <td>None</td>\n",
       "      <td>A</td>\n",
       "      <td>C</td>\n",
       "      <td>3700.060059</td>\n",
       "      <td>PASS</td>\n",
       "      <td>111</td>\n",
       "      <td>(1, 1)</td>\n",
       "      <td>(0, 111)</td>\n",
       "      <td>99</td>\n",
       "    </tr>\n",
       "    <tr>\n",
       "      <th>8614</th>\n",
       "      <td>17</td>\n",
       "      <td>68129367</td>\n",
       "      <td>None</td>\n",
       "      <td>T</td>\n",
       "      <td>A</td>\n",
       "      <td>2030.640015</td>\n",
       "      <td>PASS</td>\n",
       "      <td>150</td>\n",
       "      <td>(0, 1)</td>\n",
       "      <td>(74, 76)</td>\n",
       "      <td>99</td>\n",
       "    </tr>\n",
       "    <tr>\n",
       "      <th>8396</th>\n",
       "      <td>17</td>\n",
       "      <td>66036113</td>\n",
       "      <td>None</td>\n",
       "      <td>A</td>\n",
       "      <td>T</td>\n",
       "      <td>37.320000</td>\n",
       "      <td>PASS</td>\n",
       "      <td>2</td>\n",
       "      <td>(1, 1)</td>\n",
       "      <td>(0, 2)</td>\n",
       "      <td>6</td>\n",
       "    </tr>\n",
       "    <tr>\n",
       "      <th>8144</th>\n",
       "      <td>17</td>\n",
       "      <td>63810333</td>\n",
       "      <td>None</td>\n",
       "      <td>C</td>\n",
       "      <td>T</td>\n",
       "      <td>260.640015</td>\n",
       "      <td>PASS</td>\n",
       "      <td>15</td>\n",
       "      <td>(0, 1)</td>\n",
       "      <td>(6, 9)</td>\n",
       "      <td>99</td>\n",
       "    </tr>\n",
       "    <tr>\n",
       "      <th>8078</th>\n",
       "      <td>17</td>\n",
       "      <td>63530079</td>\n",
       "      <td>None</td>\n",
       "      <td>T</td>\n",
       "      <td>G</td>\n",
       "      <td>1360.640015</td>\n",
       "      <td>PASS</td>\n",
       "      <td>103</td>\n",
       "      <td>(0, 1)</td>\n",
       "      <td>(53, 50)</td>\n",
       "      <td>99</td>\n",
       "    </tr>\n",
       "    <tr>\n",
       "      <th>7412</th>\n",
       "      <td>17</td>\n",
       "      <td>56391225</td>\n",
       "      <td>None</td>\n",
       "      <td>A</td>\n",
       "      <td>G</td>\n",
       "      <td>35.480000</td>\n",
       "      <td>PASS</td>\n",
       "      <td>1</td>\n",
       "      <td>(1, 1)</td>\n",
       "      <td>(0, 1)</td>\n",
       "      <td>3</td>\n",
       "    </tr>\n",
       "    <tr>\n",
       "      <th>6674</th>\n",
       "      <td>17</td>\n",
       "      <td>48121514</td>\n",
       "      <td>None</td>\n",
       "      <td>G</td>\n",
       "      <td>C</td>\n",
       "      <td>5765.060059</td>\n",
       "      <td>PASS</td>\n",
       "      <td>178</td>\n",
       "      <td>(1, 1)</td>\n",
       "      <td>(0, 178)</td>\n",
       "      <td>99</td>\n",
       "    </tr>\n",
       "    <tr>\n",
       "      <th>6176</th>\n",
       "      <td>17</td>\n",
       "      <td>43875844</td>\n",
       "      <td>None</td>\n",
       "      <td>G</td>\n",
       "      <td>A</td>\n",
       "      <td>56.320000</td>\n",
       "      <td>PASS</td>\n",
       "      <td>2</td>\n",
       "      <td>(1, 1)</td>\n",
       "      <td>(0, 2)</td>\n",
       "      <td>6</td>\n",
       "    </tr>\n",
       "    <tr>\n",
       "      <th>4569</th>\n",
       "      <td>17</td>\n",
       "      <td>30142764</td>\n",
       "      <td>None</td>\n",
       "      <td>T</td>\n",
       "      <td>G</td>\n",
       "      <td>58.320000</td>\n",
       "      <td>PASS</td>\n",
       "      <td>2</td>\n",
       "      <td>(1, 1)</td>\n",
       "      <td>(0, 2)</td>\n",
       "      <td>6</td>\n",
       "    </tr>\n",
       "    <tr>\n",
       "      <th>3830</th>\n",
       "      <td>17</td>\n",
       "      <td>22131400</td>\n",
       "      <td>None</td>\n",
       "      <td>A</td>\n",
       "      <td>T</td>\n",
       "      <td>121.839996</td>\n",
       "      <td>PASS</td>\n",
       "      <td>3</td>\n",
       "      <td>(1, 1)</td>\n",
       "      <td>(0, 3)</td>\n",
       "      <td>9</td>\n",
       "    </tr>\n",
       "    <tr>\n",
       "      <th>3816</th>\n",
       "      <td>17</td>\n",
       "      <td>22123931</td>\n",
       "      <td>None</td>\n",
       "      <td>A</td>\n",
       "      <td>C</td>\n",
       "      <td>78.320000</td>\n",
       "      <td>PASS</td>\n",
       "      <td>2</td>\n",
       "      <td>(1, 1)</td>\n",
       "      <td>(0, 2)</td>\n",
       "      <td>6</td>\n",
       "    </tr>\n",
       "    <tr>\n",
       "      <th>3648</th>\n",
       "      <td>17</td>\n",
       "      <td>21704572</td>\n",
       "      <td>None</td>\n",
       "      <td>G</td>\n",
       "      <td>A</td>\n",
       "      <td>1399.640015</td>\n",
       "      <td>PASS</td>\n",
       "      <td>117</td>\n",
       "      <td>(0, 1)</td>\n",
       "      <td>(77, 40)</td>\n",
       "      <td>99</td>\n",
       "    </tr>\n",
       "    <tr>\n",
       "      <th>2688</th>\n",
       "      <td>17</td>\n",
       "      <td>16844080</td>\n",
       "      <td>None</td>\n",
       "      <td>C</td>\n",
       "      <td>G</td>\n",
       "      <td>512.640015</td>\n",
       "      <td>PASS</td>\n",
       "      <td>65</td>\n",
       "      <td>(0, 1)</td>\n",
       "      <td>(44, 21)</td>\n",
       "      <td>99</td>\n",
       "    </tr>\n",
       "    <tr>\n",
       "      <th>2403</th>\n",
       "      <td>17</td>\n",
       "      <td>13635911</td>\n",
       "      <td>None</td>\n",
       "      <td>T</td>\n",
       "      <td>C</td>\n",
       "      <td>70.839996</td>\n",
       "      <td>PASS</td>\n",
       "      <td>3</td>\n",
       "      <td>(1, 1)</td>\n",
       "      <td>(0, 3)</td>\n",
       "      <td>9</td>\n",
       "    </tr>\n",
       "    <tr>\n",
       "      <th>1559</th>\n",
       "      <td>17</td>\n",
       "      <td>7738550</td>\n",
       "      <td>None</td>\n",
       "      <td>C</td>\n",
       "      <td>T</td>\n",
       "      <td>53.639999</td>\n",
       "      <td>PASS</td>\n",
       "      <td>3</td>\n",
       "      <td>(0, 1)</td>\n",
       "      <td>(1, 2)</td>\n",
       "      <td>26</td>\n",
       "    </tr>\n",
       "    <tr>\n",
       "      <th>991</th>\n",
       "      <td>17</td>\n",
       "      <td>5350822</td>\n",
       "      <td>None</td>\n",
       "      <td>C</td>\n",
       "      <td>G</td>\n",
       "      <td>98.639999</td>\n",
       "      <td>PASS</td>\n",
       "      <td>11</td>\n",
       "      <td>(0, 1)</td>\n",
       "      <td>(7, 4)</td>\n",
       "      <td>99</td>\n",
       "    </tr>\n",
       "  </tbody>\n",
       "</table>\n",
       "</div>"
      ],
      "text/plain": [
       "       chrom       pos    id                             ref alt         qual  \\\n",
       "11226     17  82664414  None                               A   G   686.640015   \n",
       "10883     17  81282112  None                               C   T  1187.640015   \n",
       "10048     17  76974871  None                               C   T    58.320000   \n",
       "9229      17  74249847  None  CCACTGTGGGGCTCCTGGGAGACGGAGCCT   C  1340.030029   \n",
       "9099      17  73235465  None                               A   C  3700.060059   \n",
       "8614      17  68129367  None                               T   A  2030.640015   \n",
       "8396      17  66036113  None                               A   T    37.320000   \n",
       "8144      17  63810333  None                               C   T   260.640015   \n",
       "8078      17  63530079  None                               T   G  1360.640015   \n",
       "7412      17  56391225  None                               A   G    35.480000   \n",
       "6674      17  48121514  None                               G   C  5765.060059   \n",
       "6176      17  43875844  None                               G   A    56.320000   \n",
       "4569      17  30142764  None                               T   G    58.320000   \n",
       "3830      17  22131400  None                               A   T   121.839996   \n",
       "3816      17  22123931  None                               A   C    78.320000   \n",
       "3648      17  21704572  None                               G   A  1399.640015   \n",
       "2688      17  16844080  None                               C   G   512.640015   \n",
       "2403      17  13635911  None                               T   C    70.839996   \n",
       "1559      17   7738550  None                               C   T    53.639999   \n",
       "991       17   5350822  None                               C   G    98.639999   \n",
       "\n",
       "      filter   dp      gt        ad  gq  \n",
       "11226   PASS   55  (0, 1)  (30, 25)  99  \n",
       "10883   PASS   78  (0, 1)  (34, 44)  99  \n",
       "10048   PASS    2  (1, 1)    (0, 2)   6  \n",
       "9229    PASS   30  (1, 1)   (0, 30)  92  \n",
       "9099    PASS  111  (1, 1)  (0, 111)  99  \n",
       "8614    PASS  150  (0, 1)  (74, 76)  99  \n",
       "8396    PASS    2  (1, 1)    (0, 2)   6  \n",
       "8144    PASS   15  (0, 1)    (6, 9)  99  \n",
       "8078    PASS  103  (0, 1)  (53, 50)  99  \n",
       "7412    PASS    1  (1, 1)    (0, 1)   3  \n",
       "6674    PASS  178  (1, 1)  (0, 178)  99  \n",
       "6176    PASS    2  (1, 1)    (0, 2)   6  \n",
       "4569    PASS    2  (1, 1)    (0, 2)   6  \n",
       "3830    PASS    3  (1, 1)    (0, 3)   9  \n",
       "3816    PASS    2  (1, 1)    (0, 2)   6  \n",
       "3648    PASS  117  (0, 1)  (77, 40)  99  \n",
       "2688    PASS   65  (0, 1)  (44, 21)  99  \n",
       "2403    PASS    3  (1, 1)    (0, 3)   9  \n",
       "1559    PASS    3  (0, 1)    (1, 2)  26  \n",
       "991     PASS   11  (0, 1)    (7, 4)  99  "
      ]
     },
     "execution_count": 14,
     "metadata": {},
     "output_type": "execute_result"
    }
   ],
   "source": [
    "vcf_subset.sort_values(by=\"pos\", ascending=False)"
   ]
  },
  {
   "cell_type": "markdown",
   "id": "44444938",
   "metadata": {},
   "source": [
    "#### 7. We would like to only include variants that have a read depth >= 50.0 and a genotype quality >= 70.0. How would you do this using pandas?"
   ]
  },
  {
   "cell_type": "code",
   "execution_count": 15,
   "id": "a63f6aa9",
   "metadata": {},
   "outputs": [
    {
     "data": {
      "text/html": [
       "<div>\n",
       "<style scoped>\n",
       "    .dataframe tbody tr th:only-of-type {\n",
       "        vertical-align: middle;\n",
       "    }\n",
       "\n",
       "    .dataframe tbody tr th {\n",
       "        vertical-align: top;\n",
       "    }\n",
       "\n",
       "    .dataframe thead th {\n",
       "        text-align: right;\n",
       "    }\n",
       "</style>\n",
       "<table border=\"1\" class=\"dataframe\">\n",
       "  <thead>\n",
       "    <tr style=\"text-align: right;\">\n",
       "      <th></th>\n",
       "      <th>chrom</th>\n",
       "      <th>pos</th>\n",
       "      <th>id</th>\n",
       "      <th>ref</th>\n",
       "      <th>alt</th>\n",
       "      <th>qual</th>\n",
       "      <th>filter</th>\n",
       "      <th>dp</th>\n",
       "      <th>gt</th>\n",
       "      <th>ad</th>\n",
       "      <th>gq</th>\n",
       "    </tr>\n",
       "  </thead>\n",
       "  <tbody>\n",
       "    <tr>\n",
       "      <th>6674</th>\n",
       "      <td>17</td>\n",
       "      <td>48121514</td>\n",
       "      <td>None</td>\n",
       "      <td>G</td>\n",
       "      <td>C</td>\n",
       "      <td>5765.060059</td>\n",
       "      <td>PASS</td>\n",
       "      <td>178</td>\n",
       "      <td>(1, 1)</td>\n",
       "      <td>(0, 178)</td>\n",
       "      <td>99</td>\n",
       "    </tr>\n",
       "    <tr>\n",
       "      <th>8614</th>\n",
       "      <td>17</td>\n",
       "      <td>68129367</td>\n",
       "      <td>None</td>\n",
       "      <td>T</td>\n",
       "      <td>A</td>\n",
       "      <td>2030.640015</td>\n",
       "      <td>PASS</td>\n",
       "      <td>150</td>\n",
       "      <td>(0, 1)</td>\n",
       "      <td>(74, 76)</td>\n",
       "      <td>99</td>\n",
       "    </tr>\n",
       "    <tr>\n",
       "      <th>11226</th>\n",
       "      <td>17</td>\n",
       "      <td>82664414</td>\n",
       "      <td>None</td>\n",
       "      <td>A</td>\n",
       "      <td>G</td>\n",
       "      <td>686.640015</td>\n",
       "      <td>PASS</td>\n",
       "      <td>55</td>\n",
       "      <td>(0, 1)</td>\n",
       "      <td>(30, 25)</td>\n",
       "      <td>99</td>\n",
       "    </tr>\n",
       "    <tr>\n",
       "      <th>2688</th>\n",
       "      <td>17</td>\n",
       "      <td>16844080</td>\n",
       "      <td>None</td>\n",
       "      <td>C</td>\n",
       "      <td>G</td>\n",
       "      <td>512.640015</td>\n",
       "      <td>PASS</td>\n",
       "      <td>65</td>\n",
       "      <td>(0, 1)</td>\n",
       "      <td>(44, 21)</td>\n",
       "      <td>99</td>\n",
       "    </tr>\n",
       "    <tr>\n",
       "      <th>3648</th>\n",
       "      <td>17</td>\n",
       "      <td>21704572</td>\n",
       "      <td>None</td>\n",
       "      <td>G</td>\n",
       "      <td>A</td>\n",
       "      <td>1399.640015</td>\n",
       "      <td>PASS</td>\n",
       "      <td>117</td>\n",
       "      <td>(0, 1)</td>\n",
       "      <td>(77, 40)</td>\n",
       "      <td>99</td>\n",
       "    </tr>\n",
       "    <tr>\n",
       "      <th>8078</th>\n",
       "      <td>17</td>\n",
       "      <td>63530079</td>\n",
       "      <td>None</td>\n",
       "      <td>T</td>\n",
       "      <td>G</td>\n",
       "      <td>1360.640015</td>\n",
       "      <td>PASS</td>\n",
       "      <td>103</td>\n",
       "      <td>(0, 1)</td>\n",
       "      <td>(53, 50)</td>\n",
       "      <td>99</td>\n",
       "    </tr>\n",
       "    <tr>\n",
       "      <th>9099</th>\n",
       "      <td>17</td>\n",
       "      <td>73235465</td>\n",
       "      <td>None</td>\n",
       "      <td>A</td>\n",
       "      <td>C</td>\n",
       "      <td>3700.060059</td>\n",
       "      <td>PASS</td>\n",
       "      <td>111</td>\n",
       "      <td>(1, 1)</td>\n",
       "      <td>(0, 111)</td>\n",
       "      <td>99</td>\n",
       "    </tr>\n",
       "    <tr>\n",
       "      <th>10883</th>\n",
       "      <td>17</td>\n",
       "      <td>81282112</td>\n",
       "      <td>None</td>\n",
       "      <td>C</td>\n",
       "      <td>T</td>\n",
       "      <td>1187.640015</td>\n",
       "      <td>PASS</td>\n",
       "      <td>78</td>\n",
       "      <td>(0, 1)</td>\n",
       "      <td>(34, 44)</td>\n",
       "      <td>99</td>\n",
       "    </tr>\n",
       "  </tbody>\n",
       "</table>\n",
       "</div>"
      ],
      "text/plain": [
       "       chrom       pos    id ref alt         qual filter   dp      gt  \\\n",
       "6674      17  48121514  None   G   C  5765.060059   PASS  178  (1, 1)   \n",
       "8614      17  68129367  None   T   A  2030.640015   PASS  150  (0, 1)   \n",
       "11226     17  82664414  None   A   G   686.640015   PASS   55  (0, 1)   \n",
       "2688      17  16844080  None   C   G   512.640015   PASS   65  (0, 1)   \n",
       "3648      17  21704572  None   G   A  1399.640015   PASS  117  (0, 1)   \n",
       "8078      17  63530079  None   T   G  1360.640015   PASS  103  (0, 1)   \n",
       "9099      17  73235465  None   A   C  3700.060059   PASS  111  (1, 1)   \n",
       "10883     17  81282112  None   C   T  1187.640015   PASS   78  (0, 1)   \n",
       "\n",
       "             ad  gq  \n",
       "6674   (0, 178)  99  \n",
       "8614   (74, 76)  99  \n",
       "11226  (30, 25)  99  \n",
       "2688   (44, 21)  99  \n",
       "3648   (77, 40)  99  \n",
       "8078   (53, 50)  99  \n",
       "9099   (0, 111)  99  \n",
       "10883  (34, 44)  99  "
      ]
     },
     "execution_count": 15,
     "metadata": {},
     "output_type": "execute_result"
    }
   ],
   "source": [
    "vcf_subset[(vcf_subset[\"dp\"] >= 50.0) & (vcf_subset[\"gq\"] >= 70.0)]"
   ]
  },
  {
   "cell_type": "markdown",
   "id": "2e26fce9",
   "metadata": {},
   "source": [
    "## Final Exercise"
   ]
  },
  {
   "cell_type": "markdown",
   "id": "e439aacc",
   "metadata": {},
   "source": [
    "#### A clinical colleague has asked you to examine the VCF to see if there are any frameshift variants in the coding regions of the *P2RX5* gene. How many frameshift variants are there? Write your code below to answer this question. The exon coordinates for the *P2RX5* gene are provided in the cell below."
   ]
  },
  {
   "cell_type": "code",
   "execution_count": 16,
   "id": "40284ada",
   "metadata": {},
   "outputs": [],
   "source": [
    "exon_list = [[3695868,3696155], [3691643,3691794], [3690955,3691027],\n",
    "             [3690604,3690680], [3690426,3690523], [3690069,3690150],\n",
    "             [3689491,3689630], [3688625,3688759], [3688011,3688105],\n",
    "             [3681895,3681978], [3679589,3679784], [3673226,3673226]]"
   ]
  },
  {
   "cell_type": "code",
   "execution_count": 17,
   "id": "72c4dd6e",
   "metadata": {},
   "outputs": [],
   "source": [
    "def in_exon(pos: int, exon_list:list[list]) -> bool:\n",
    "   \"\"\"Check if a coordinate occurs in an exon\n",
    "  \n",
    "   :param pos: A genomic position\n",
    "   :param exon_list: A list containing genomic coordinates for exons, with a list \n",
    "   representing each exon\n",
    "\n",
    "   :return ``True`` if the position occurs on an exon, ``False`` if not\n",
    "   \"\"\"\n",
    "   for exon in exon_list:\n",
    "       if pos >= exon[0] and pos <= exon[1]:\n",
    "           return True\n",
    "   return False\n",
    "\n",
    "vcf_subset = vcf_data[vcf_data[\"pos\"].apply(lambda pos: in_exon(pos, exon_list))]\n",
    "vcf_subset = vcf_subset[vcf_subset.apply(lambda row: len(row[\"ref\"]) % 3 != len(row[\"alt\"]) % 3, axis=1)]"
   ]
  },
  {
   "cell_type": "code",
   "execution_count": 18,
   "id": "169e14d7",
   "metadata": {},
   "outputs": [
    {
     "data": {
      "text/html": [
       "<div>\n",
       "<style scoped>\n",
       "    .dataframe tbody tr th:only-of-type {\n",
       "        vertical-align: middle;\n",
       "    }\n",
       "\n",
       "    .dataframe tbody tr th {\n",
       "        vertical-align: top;\n",
       "    }\n",
       "\n",
       "    .dataframe thead th {\n",
       "        text-align: right;\n",
       "    }\n",
       "</style>\n",
       "<table border=\"1\" class=\"dataframe\">\n",
       "  <thead>\n",
       "    <tr style=\"text-align: right;\">\n",
       "      <th></th>\n",
       "      <th>chrom</th>\n",
       "      <th>pos</th>\n",
       "      <th>id</th>\n",
       "      <th>ref</th>\n",
       "      <th>alt</th>\n",
       "      <th>qual</th>\n",
       "      <th>filter</th>\n",
       "      <th>dp</th>\n",
       "      <th>gt</th>\n",
       "      <th>ad</th>\n",
       "      <th>gq</th>\n",
       "    </tr>\n",
       "  </thead>\n",
       "  <tbody>\n",
       "    <tr>\n",
       "      <th>578</th>\n",
       "      <td>17</td>\n",
       "      <td>3690982</td>\n",
       "      <td>None</td>\n",
       "      <td>TG</td>\n",
       "      <td>T</td>\n",
       "      <td>669.599976</td>\n",
       "      <td>PASS</td>\n",
       "      <td>45</td>\n",
       "      <td>(0, 1)</td>\n",
       "      <td>(20, 25)</td>\n",
       "      <td>99</td>\n",
       "    </tr>\n",
       "  </tbody>\n",
       "</table>\n",
       "</div>"
      ],
      "text/plain": [
       "     chrom      pos    id ref alt        qual filter  dp      gt        ad  gq\n",
       "578     17  3690982  None  TG   T  669.599976   PASS  45  (0, 1)  (20, 25)  99"
      ]
     },
     "execution_count": 18,
     "metadata": {},
     "output_type": "execute_result"
    }
   ],
   "source": [
    "vcf_subset"
   ]
  }
 ],
 "metadata": {
  "kernelspec": {
   "display_name": "Python 3 (ipykernel)",
   "language": "python",
   "name": "python3"
  },
  "language_info": {
   "codemirror_mode": {
    "name": "ipython",
    "version": 3
   },
   "file_extension": ".py",
   "mimetype": "text/x-python",
   "name": "python",
   "nbconvert_exporter": "python",
   "pygments_lexer": "ipython3",
   "version": "3.11.7"
  }
 },
 "nbformat": 4,
 "nbformat_minor": 5
}

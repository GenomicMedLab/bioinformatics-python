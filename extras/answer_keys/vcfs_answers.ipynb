{
 "cells": [
  {
   "cell_type": "markdown",
   "id": "0a5d2a85",
   "metadata": {},
   "source": [
    "# Pandas and pysam in Python: Answer Key"
   ]
  },
  {
   "cell_type": "markdown",
   "id": "2e26fce9",
   "metadata": {},
   "source": [
    "## Final Exercise"
   ]
  },
  {
   "cell_type": "markdown",
   "id": "e439aacc",
   "metadata": {},
   "source": [
    "A colleague has asked you to examine the VCF to see if there are any frameshift variants in the coding regions of the *P2RX5* gene. How many frameshift variants are there? Write your code below to answer this question. The exon coordinates for the *P2RX5* gene are provided in the cell below."
   ]
  },
  {
   "cell_type": "code",
   "execution_count": 16,
   "id": "40284ada",
   "metadata": {},
   "outputs": [],
   "source": [
    "exon_list = [[3695868,3696155], [3691643,3691794], [3690955,3691027],\n",
    "             [3690604,3690680], [3690426,3690523], [3690069,3690150],\n",
    "             [3689491,3689630], [3688625,3688759], [3688011,3688105],\n",
    "             [3681895,3681978], [3679589,3679784], [3673226,3673226]]"
   ]
  },
  {
   "cell_type": "code",
   "execution_count": 17,
   "id": "72c4dd6e",
   "metadata": {},
   "outputs": [],
   "source": [
    "def in_exon(pos: int, exon_list:list[list]) -> bool:\n",
    "   \"\"\"Check if a coordinate occurs in an exon\n",
    "  \n",
    "   :param pos: A genomic position\n",
    "   :param exon_list: A list containing genomic coordinates for exons, with a list \n",
    "   representing each exon\n",
    "\n",
    "   :return ``True`` if the position occurs on an exon, ``False`` if not\n",
    "   \"\"\"\n",
    "   for exon in exon_list:\n",
    "       if pos >= exon[0] and pos <= exon[1]:\n",
    "           return True\n",
    "   return False\n",
    "\n",
    "vcf_subset = vcf_data[vcf_data[\"pos\"].apply(lambda pos: in_exon(pos, exon_list))]\n",
    "vcf_subset = vcf_subset[vcf_subset.apply(lambda row: len(row[\"ref\"]) % 3 != len(row[\"alt\"]) % 3, axis=1)]"
   ]
  },
  {
   "cell_type": "code",
   "execution_count": 18,
   "id": "169e14d7",
   "metadata": {},
   "outputs": [
    {
     "data": {
      "text/html": [
       "<div>\n",
       "<style scoped>\n",
       "    .dataframe tbody tr th:only-of-type {\n",
       "        vertical-align: middle;\n",
       "    }\n",
       "\n",
       "    .dataframe tbody tr th {\n",
       "        vertical-align: top;\n",
       "    }\n",
       "\n",
       "    .dataframe thead th {\n",
       "        text-align: right;\n",
       "    }\n",
       "</style>\n",
       "<table border=\"1\" class=\"dataframe\">\n",
       "  <thead>\n",
       "    <tr style=\"text-align: right;\">\n",
       "      <th></th>\n",
       "      <th>chrom</th>\n",
       "      <th>pos</th>\n",
       "      <th>id</th>\n",
       "      <th>ref</th>\n",
       "      <th>alt</th>\n",
       "      <th>qual</th>\n",
       "      <th>filter</th>\n",
       "      <th>dp</th>\n",
       "      <th>gt</th>\n",
       "      <th>ad</th>\n",
       "      <th>gq</th>\n",
       "    </tr>\n",
       "  </thead>\n",
       "  <tbody>\n",
       "    <tr>\n",
       "      <th>578</th>\n",
       "      <td>17</td>\n",
       "      <td>3690982</td>\n",
       "      <td>None</td>\n",
       "      <td>TG</td>\n",
       "      <td>T</td>\n",
       "      <td>669.599976</td>\n",
       "      <td>PASS</td>\n",
       "      <td>45</td>\n",
       "      <td>(0, 1)</td>\n",
       "      <td>(20, 25)</td>\n",
       "      <td>99</td>\n",
       "    </tr>\n",
       "  </tbody>\n",
       "</table>\n",
       "</div>"
      ],
      "text/plain": [
       "     chrom      pos    id ref alt        qual filter  dp      gt        ad  gq\n",
       "578     17  3690982  None  TG   T  669.599976   PASS  45  (0, 1)  (20, 25)  99"
      ]
     },
     "execution_count": 18,
     "metadata": {},
     "output_type": "execute_result"
    }
   ],
   "source": [
    "vcf_subset"
   ]
  }
 ],
 "metadata": {
  "kernelspec": {
   "display_name": "Python 3 (ipykernel)",
   "language": "python",
   "name": "python3"
  },
  "language_info": {
   "codemirror_mode": {
    "name": "ipython",
    "version": 3
   },
   "file_extension": ".py",
   "mimetype": "text/x-python",
   "name": "python",
   "nbconvert_exporter": "python",
   "pygments_lexer": "ipython3",
   "version": "3.11.5"
  }
 },
 "nbformat": 4,
 "nbformat_minor": 5
}

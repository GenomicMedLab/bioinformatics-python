{
 "cells": [
  {
   "cell_type": "markdown",
   "id": "0a5d2a85",
   "metadata": {},
   "source": [
    "# This lab contains exercises for the Bioinformatics with Python Lab held on November 19th, 2024 during the CSHL Advanced Sequencing Technologies & Bioinformatics Analysis course"
   ]
  },
  {
   "cell_type": "markdown",
   "id": "4e5d6a68",
   "metadata": {},
   "source": [
    "## Using `requests` to extract data from an API"
   ]
  },
  {
   "cell_type": "markdown",
   "id": "91e0eac2",
   "metadata": {},
   "source": [
    "#### First, let's import the `requests` library"
   ]
  },
  {
   "cell_type": "code",
   "execution_count": 1,
   "id": "18ca7fc5",
   "metadata": {},
   "outputs": [],
   "source": [
    "import requests"
   ]
  },
  {
   "cell_type": "markdown",
   "id": "02e3afae",
   "metadata": {},
   "source": [
    "#### 1. We are interested in using `requests` to query the Ensembl API to get back a record for a gene of interest. How would you determine this? Type your answer in the cell below:"
   ]
  },
  {
   "cell_type": "code",
   "execution_count": 2,
   "id": "759c3b93",
   "metadata": {},
   "outputs": [
    {
     "data": {
      "text/plain": [
       "<Response [200]>"
      ]
     },
     "execution_count": 2,
     "metadata": {},
     "output_type": "execute_result"
    }
   ],
   "source": [
    "gene_symbol = \"TCERG1\" # Replace with gene symbol in between the quotations\n",
    "ensembl_gene_url = f\"https://rest.ensembl.org/lookup/symbol/homo_sapiens/{gene_symbol}?content-type=application/json\"\n",
    "ensembl_gene_record = requests.get(ensembl_gene_url)\n",
    "ensembl_gene_record"
   ]
  },
  {
   "cell_type": "markdown",
   "id": "0d2706f4",
   "metadata": {},
   "source": [
    "#### 2. How would you view the JSON output for this request?"
   ]
  },
  {
   "cell_type": "code",
   "execution_count": 3,
   "id": "bd3b8817",
   "metadata": {},
   "outputs": [
    {
     "data": {
      "text/plain": [
       "{'end': 146511961,\n",
       " 'db_type': 'core',\n",
       " 'version': 14,\n",
       " 'strand': 1,\n",
       " 'assembly_name': 'GRCh38',\n",
       " 'seq_region_name': '5',\n",
       " 'canonical_transcript': 'ENST00000679501.2',\n",
       " 'species': 'homo_sapiens',\n",
       " 'logic_name': 'ensembl_havana_gene_homo_sapiens',\n",
       " 'start': 146447311,\n",
       " 'source': 'ensembl_havana',\n",
       " 'object_type': 'Gene',\n",
       " 'description': 'transcription elongation regulator 1 [Source:HGNC Symbol;Acc:HGNC:15630]',\n",
       " 'id': 'ENSG00000113649',\n",
       " 'display_name': 'TCERG1',\n",
       " 'biotype': 'protein_coding'}"
      ]
     },
     "execution_count": 3,
     "metadata": {},
     "output_type": "execute_result"
    }
   ],
   "source": [
    "ensembl_gene_record.json()"
   ]
  },
  {
   "cell_type": "markdown",
   "id": "e37f88dc",
   "metadata": {},
   "source": [
    "## Introduction to Web Scraping using `beautifulsoup4` "
   ]
  },
  {
   "cell_type": "markdown",
   "id": "a4b39cba",
   "metadata": {},
   "source": [
    "#### We're now going to be using `beautifulsoup4` to practice web scraping from the course website: https://meetings.cshl.edu/courses.aspx?course=C-SEQTEC"
   ]
  },
  {
   "cell_type": "code",
   "execution_count": 4,
   "id": "3125cf31",
   "metadata": {},
   "outputs": [],
   "source": [
    "from bs4 import BeautifulSoup"
   ]
  },
  {
   "cell_type": "markdown",
   "id": "110bb971",
   "metadata": {},
   "source": [
    "#### 1. How would you to get the list of invited speakers for the course? Type your code in the cell below:"
   ]
  },
  {
   "cell_type": "code",
   "execution_count": 5,
   "id": "088ef710",
   "metadata": {
    "scrolled": true
   },
   "outputs": [
    {
     "data": {
      "text/plain": [
       "<div class=\"cspeakers16\">\n",
       "<p class=\"MsoNormal\"><b>Katie Campbell, </b>University of California, Los Angles, Los Angles, CA<br/>\n",
       "<b>Bimal Chaudhary, </b>Nationwide Children's, Powell, OH<br/>\n",
       "<b>Justin Kinney, </b>Cold Spring Harbor Laboratory, Cold Spring Harbor, NY<br/>\n",
       "<b>Yang Li, </b>Washington University in St. Louis, Saint Louis, MO<br/>\n",
       "<b>Zachary Lippman, </b>CSHL/HHMI, Cold Spring Harbor, NY<br/>\n",
       "<b>Jessica Mozersky, </b>Washington University in St Louis, St Louis, MO<br/>\n",
       "<b>Adam Phillippy, </b>National Human Genome Research Institute, Bethesda, MA<br/>\n",
       "<b>Alex Wagner,</b> Nationwide Children's Hospital, Dublin, OH<br/>\n",
       "<span style=\"font-weight: bold;\">Jason Williams</span>, <span style=\"font-size: 1rem;\">Cold Spring Harbor Laboratory, Cold Spring Harbor, NY</span></p></div>"
      ]
     },
     "execution_count": 5,
     "metadata": {},
     "output_type": "execute_result"
    }
   ],
   "source": [
    "url = 'https://meetings.cshl.edu/courses.aspx?course=C-SEQTEC'\n",
    "response = requests.get(url)\n",
    "html_content = response.text\n",
    "cshl_webpage = BeautifulSoup(html_content, \"html.parser\")\n",
    "cshl_webpage.find('div', class_='cspeakers16')"
   ]
  },
  {
   "cell_type": "markdown",
   "id": "49a424f4",
   "metadata": {},
   "source": [
    "#### 2. How could you convert this to a human-readable form?"
   ]
  },
  {
   "cell_type": "code",
   "execution_count": 6,
   "id": "5d27a363",
   "metadata": {},
   "outputs": [
    {
     "name": "stdout",
     "output_type": "stream",
     "text": [
      "Katie Campbell, University of California, Los Angles, Los Angles, CA\n",
      "Bimal Chaudhary, Nationwide Children's, Powell, OH\n",
      "Justin Kinney, Cold Spring Harbor Laboratory, Cold Spring Harbor, NY\n",
      "Yang Li, Washington University in St. Louis, Saint Louis, MO\n",
      "Zachary Lippman, CSHL/HHMI, Cold Spring Harbor, NY\n",
      "Jessica Mozersky, Washington University in St Louis, St Louis, MO\n",
      "Adam Phillippy, National Human Genome Research Institute, Bethesda, MA\n",
      "Alex Wagner, Nationwide Children's Hospital, Dublin, OH\n",
      "Jason Williams, Cold Spring Harbor Laboratory, Cold Spring Harbor, NY\n"
     ]
    }
   ],
   "source": [
    "instructors = cshl_webpage.find('div', class_='cspeakers16').find(\"div\", class_=\"cspeakers16\")\n",
    "instructors = instructors.get_text().replace(\"\\xa0\", \" \").strip()\n",
    "print(instructors)"
   ]
  },
  {
   "cell_type": "markdown",
   "id": "45b9d419",
   "metadata": {},
   "source": [
    "#### 3. Suppose we want to extract the dates for the course, and we know that the dates are under the `cdate16` flag. Write a query to output the dates that uses the `get_text()` function"
   ]
  },
  {
   "cell_type": "code",
   "execution_count": 7,
   "id": "fca6495f",
   "metadata": {},
   "outputs": [
    {
     "data": {
      "text/plain": [
       "'November 10 - 23, 2024'"
      ]
     },
     "execution_count": 7,
     "metadata": {},
     "output_type": "execute_result"
    }
   ],
   "source": [
    "dates = cshl_webpage.find('div', class_='cdate16')\n",
    "dates.get_text()"
   ]
  }
 ],
 "metadata": {
  "kernelspec": {
   "display_name": "Python 3 (ipykernel)",
   "language": "python",
   "name": "python3"
  },
  "language_info": {
   "codemirror_mode": {
    "name": "ipython",
    "version": 3
   },
   "file_extension": ".py",
   "mimetype": "text/x-python",
   "name": "python",
   "nbconvert_exporter": "python",
   "pygments_lexer": "ipython3",
   "version": "3.11.7"
  }
 },
 "nbformat": 4,
 "nbformat_minor": 5
}
